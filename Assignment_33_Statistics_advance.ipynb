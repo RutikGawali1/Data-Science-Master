{
  "nbformat": 4,
  "nbformat_minor": 0,
  "metadata": {
    "colab": {
      "provenance": []
    },
    "kernelspec": {
      "name": "python3",
      "display_name": "Python 3"
    },
    "language_info": {
      "name": "python"
    }
  },
  "cells": [
    {
      "cell_type": "markdown",
      "source": [
        "#Q1. Calculate the 95% confidence interval for a sample of data with a mean of 50 and a standard deviation of 5 using Python. Interpret the results."
      ],
      "metadata": {
        "id": "x7i0PDcDpYQc"
      }
    },
    {
      "cell_type": "code",
      "execution_count": 2,
      "metadata": {
        "colab": {
          "base_uri": "https://localhost:8080/"
        },
        "id": "vJkFP_49pFtY",
        "outputId": "c426f75c-73b4-4c83-c6fd-3cf9e7667ec3"
      },
      "outputs": [
        {
          "output_type": "stream",
          "name": "stdout",
          "text": [
            "95% Confidence Interval: (48.994559690497674, 51.005440309502326)\n"
          ]
        }
      ],
      "source": [
        "import scipy.stats as stats\n",
        "\n",
        "# Sample data parameters\n",
        "sample_mean = 50\n",
        "sample_std = 5\n",
        "sample_size = 95\n",
        "\n",
        "# Define the confidence level (95% confidence level corresponds to alpha = 0.05)\n",
        "confidence_level = 0.95\n",
        "\n",
        "# Calculate the standard error (SE)\n",
        "standard_error = sample_std / (sample_size ** 0.5)\n",
        "\n",
        "# Calculate the confidence interval\n",
        "confidence_interval = stats.norm.interval(confidence_level, loc=sample_mean, scale=standard_error)\n",
        "\n",
        "# Extract the lower and upper bounds of the confidence interval\n",
        "lower_bound, upper_bound = confidence_interval\n",
        "\n",
        "# Print the results\n",
        "print(f\"95% Confidence Interval: ({lower_bound}, {upper_bound})\")\n"
      ]
    },
    {
      "cell_type": "markdown",
      "source": [
        "#Q2. Conduct a chi-square goodness of fit test to determine if the distribution of colors of M&Ms in a bag matches the expected distribution of 20% blue, 20% orange, 20% green, 10% yellow, 10% red, and 20% brown. Use Python to perform the test with a significance level of 0.05."
      ],
      "metadata": {
        "id": "q5f0Av0Kpza8"
      }
    },
    {
      "cell_type": "code",
      "source": [
        "import random\n",
        "import scipy.stats as stats\n",
        "\n",
        "# Define the expected distribution of colors\n",
        "expected_distribution = [0.2, 0.2, 0.2, 0.1, 0.1, 0.2]\n",
        "\n",
        "# Generate a random sample of 100 M&Ms\n",
        "observed_distribution = []\n",
        "for _ in range(100):\n",
        "  color = random.choice([\"blue\", \"orange\", \"green\", \"yellow\", \"red\", \"brown\"])\n",
        "  observed_distribution.append(color)\n",
        "\n",
        "# Calculate the chi-squared statistic\n",
        "chi_squared = 0\n",
        "for color, expected in zip(observed_distribution, expected_distribution):\n",
        "  count = observed_distribution.count(color)\n",
        "  expected_count = len(observed_distribution) * expected\n",
        "  chi_squared += (count - expected_count)**2 / expected_count\n",
        "\n",
        "# Calculate the p-value\n",
        "p_value = 1 - stats.chi2.cdf(chi_squared, df=5)\n",
        "\n",
        "# Print the results\n",
        "print(\"Chi-squared statistic:\", chi_squared)\n",
        "print(\"P-value:\", p_value)\n",
        "\n",
        "# If the p-value is less than the significance level, then we can reject the null hypothesis\n",
        "if p_value < 0.05:\n",
        "  print(\"We can reject the null hypothesis\")\n",
        "else:\n",
        "  print(\"We cannot reject the null hypothesis\")\n"
      ],
      "metadata": {
        "colab": {
          "base_uri": "https://localhost:8080/"
        },
        "id": "oHUA2YsbpXsV",
        "outputId": "b0db4637-325f-4427-d454-516a064c07eb"
      },
      "execution_count": 6,
      "outputs": [
        {
          "output_type": "stream",
          "name": "stdout",
          "text": [
            "Chi-squared statistic: 8.4\n",
            "P-value: 0.1355252233775297\n",
            "We cannot reject the null hypothesis\n"
          ]
        }
      ]
    },
    {
      "cell_type": "markdown",
      "source": [
        "#Q3. Use Python to calculate the chi-square statistic and p-value for a contingency table with the following data:\n",
        "contingency_table = np.array([\n",
        "    [20, 15],\n",
        "    [10, 20],\n",
        "    [15, 15]"
      ],
      "metadata": {
        "id": "TkLlvghTrUIr"
      }
    },
    {
      "cell_type": "code",
      "source": [
        "import numpy as np\n",
        "import scipy.stats as stats\n",
        "\n",
        "# Define the contingency table\n",
        "contingency_table = np.array([\n",
        "    [20, 15],\n",
        "    [10, 20],\n",
        "    [15, 15]\n",
        "])\n",
        "\n",
        "# Calculate the chi-squared statistic\n",
        "chi_squared = stats.chi2_contingency(contingency_table)[0]\n",
        "\n",
        "# Calculate the p-value\n",
        "p_value = 1 - stats.chi2.cdf(chi_squared, df=2)\n",
        "\n",
        "# Print the results\n",
        "print(\"Chi-squared statistic:\", chi_squared)\n",
        "print(\"P-value:\", p_value)\n"
      ],
      "metadata": {
        "colab": {
          "base_uri": "https://localhost:8080/"
        },
        "id": "6TvSjT-GqUHg",
        "outputId": "e57494df-5532-4962-aea2-f060dd2bb4d6"
      },
      "execution_count": 7,
      "outputs": [
        {
          "output_type": "stream",
          "name": "stdout",
          "text": [
            "Chi-squared statistic: 3.7949735449735464\n",
            "P-value: 0.14994499194861843\n"
          ]
        }
      ]
    },
    {
      "cell_type": "markdown",
      "source": [
        "#Q4. A study of the prevalence of smoking in a population of 500 individuals found that 60 individuals smoked. Use Python to calculate the 95% confidence interval for the true proportion of individuals in the population who smoke."
      ],
      "metadata": {
        "id": "uNP5t1-Rrqsw"
      }
    },
    {
      "cell_type": "code",
      "source": [
        "import numpy as np\n",
        "import scipy.stats as stats\n",
        "\n",
        "# Number of individuals who smoke\n",
        "smokers = 60\n",
        "\n",
        "# Total number of individuals\n",
        "population_size = 500\n",
        "\n",
        "# Calculate the sample proportion\n",
        "sample_proportion = smokers / population_size\n",
        "\n",
        "# Calculate the standard error of the sample proportion\n",
        "standard_error = np.sqrt(sample_proportion * (1 - sample_proportion) / population_size)\n",
        "\n",
        "# Calculate the 95% confidence interval\n",
        "confidence_interval = stats.norm.interval(0.95, loc=sample_proportion, scale=standard_error)\n",
        "\n",
        "# Print the confidence interval\n",
        "print(confidence_interval)\n"
      ],
      "metadata": {
        "colab": {
          "base_uri": "https://localhost:8080/"
        },
        "id": "4jDvxZsproyM",
        "outputId": "36885a68-808f-41b3-9728-18cf56cd0cc8"
      },
      "execution_count": 8,
      "outputs": [
        {
          "output_type": "stream",
          "name": "stdout",
          "text": [
            "(0.09151638887130707, 0.1484836111286929)\n"
          ]
        }
      ]
    },
    {
      "cell_type": "markdown",
      "source": [
        "#Q5. Calculate the 90% confidence interval for a sample of data with a mean of 75 and a standard deviation of 12 using Python. Interpret the results."
      ],
      "metadata": {
        "id": "aJOOl-zttqcg"
      }
    },
    {
      "cell_type": "code",
      "source": [
        "import numpy as np\n",
        "import scipy.stats as stats\n",
        "\n",
        "# Mean of the sample\n",
        "mean = 75\n",
        "\n",
        "# Standard deviation of the sample\n",
        "standard_deviation = 12\n",
        "\n",
        "# Calculate the 90% confidence interval\n",
        "confidence_interval = stats.norm.interval(0.90, loc=mean, scale=standard_deviation)\n",
        "\n",
        "# Print the confidence interval\n",
        "print(confidence_interval)\n"
      ],
      "metadata": {
        "colab": {
          "base_uri": "https://localhost:8080/"
        },
        "id": "MVgOVD0Atphg",
        "outputId": "c778ed04-4bbb-4086-bf88-0f02ad1e6303"
      },
      "execution_count": 9,
      "outputs": [
        {
          "output_type": "stream",
          "name": "stdout",
          "text": [
            "(55.26175647658233, 94.73824352341767)\n"
          ]
        }
      ]
    },
    {
      "cell_type": "markdown",
      "source": [
        "#Q6. Use Python to plot the chi-square distribution with 10 degrees of freedom. Label the axes and shade the area corresponding to a chi-square statistic of 15."
      ],
      "metadata": {
        "id": "n3_Bn5XquP04"
      }
    },
    {
      "cell_type": "code",
      "source": [
        "import numpy as np\n",
        "import matplotlib.pyplot as plt\n",
        "from scipy.stats import chi2\n",
        "\n",
        "# Define the chi-square distribution\n",
        "x = np.linspace(0, 30, 1000)\n",
        "pdf = chi2.pdf(x, df=10)\n",
        "\n",
        "# Plot the distribution\n",
        "plt.plot(x, pdf)\n",
        "plt.xlabel(\"Chi-square statistic\")\n",
        "plt.ylabel(\"Probability density\")\n",
        "\n",
        "# Shade the area corresponding to a chi-square statistic of 15\n",
        "plt.axvline(x=15, color=\"red\", alpha=0.2)\n",
        "\n",
        "# Show the plot\n",
        "plt.show()\n"
      ],
      "metadata": {
        "colab": {
          "base_uri": "https://localhost:8080/",
          "height": 449
        },
        "id": "QGikruRVt46-",
        "outputId": "3df9df69-af3f-4167-984b-f020f89ad735"
      },
      "execution_count": 10,
      "outputs": [
        {
          "output_type": "display_data",
          "data": {
            "text/plain": [
              "<Figure size 640x480 with 1 Axes>"
            ],
            "image/png": "[encoded data removed]"
          },
          "metadata": {}
        }
      ]
    },
    {
      "cell_type": "markdown",
      "source": [
        "#Q7. A random sample of 1000 people was asked if they preferred Coke or Pepsi. Of the sample, 520 preferred Coke. Calculate a 99% confidence interval for the true proportion of people in the population who prefer Coke."
      ],
      "metadata": {
        "id": "5UWtlusCu7L8"
      }
    },
    {
      "cell_type": "code",
      "source": [
        "import numpy as np\n",
        "import scipy.stats as stats\n",
        "\n",
        "# Sample size\n",
        "n = 1000\n",
        "\n",
        "# Number of people who prefer Coke\n",
        "x = 520\n",
        "\n",
        "# Sample proportion\n",
        "p = x / n\n",
        "\n",
        "# Standard error of the sample proportion\n",
        "se = np.sqrt(p * (1 - p) / n)\n",
        "\n",
        "# Confidence level\n",
        "alpha = (1 - 0.99)\n",
        "\n",
        "# Confidence interval\n",
        "ci = stats.norm.interval(1 - alpha / 2, loc=p, scale=se)\n",
        "\n",
        "# Print the confidence interval\n",
        "print(ci)\n"
      ],
      "metadata": {
        "colab": {
          "base_uri": "https://localhost:8080/"
        },
        "id": "6QX_TL2EuYeK",
        "outputId": "54498d51-9513-469a-f3f7-6adfc80b7204"
      },
      "execution_count": 12,
      "outputs": [
        {
          "output_type": "stream",
          "name": "stdout",
          "text": [
            "(0.47565241980981426, 0.5643475801901858)\n"
          ]
        }
      ]
    },
    {
      "cell_type": "markdown",
      "source": [
        "#Q8. A researcher hypothesizes that a coin is biased towards tails. They flip the coin 100 times and observe 45 tails. Conduct a chi-square goodness of fit test to determine if the observed frequencies match the expected frequencies of a fair coin. Use a significance level of 0.05."
      ],
      "metadata": {
        "id": "Qb5GKrASvn1S"
      }
    },
    {
      "cell_type": "code",
      "source": [
        "import numpy as np\n",
        "import scipy.stats as stats\n",
        "\n",
        "# Observed frequencies\n",
        "heads = 55\n",
        "tails = 45\n",
        "\n",
        "# Expected frequencies\n",
        "expected_heads = 50\n",
        "expected_tails = 50\n",
        "\n",
        "# Chi-squared statistic\n",
        "chi_squared = ((heads - expected_heads)**2 / expected_heads) + ((tails - expected_tails)**2 / expected_tails)\n",
        "\n",
        "# Significance level\n",
        "alpha = 0.05\n",
        "\n",
        "# p-value\n",
        "p_value = 1 - stats.chi2.cdf(chi_squared, df=1)\n",
        "\n",
        "# Print the results\n",
        "print(\"Chi-squared statistic:\", chi_squared)\n",
        "print(\"P-value:\", p_value)\n"
      ],
      "metadata": {
        "colab": {
          "base_uri": "https://localhost:8080/"
        },
        "id": "iq_58hVnu_6r",
        "outputId": "3b2b345c-a813-4831-c35d-945ad981da34"
      },
      "execution_count": 13,
      "outputs": [
        {
          "output_type": "stream",
          "name": "stdout",
          "text": [
            "Chi-squared statistic: 1.0\n",
            "P-value: 0.31731050786291415\n"
          ]
        }
      ]
    },
    {
      "cell_type": "markdown",
      "source": [
        "#Q9. A study was conducted to determine if there is an association between smoking status (smoker or non-smoker) and lung cancer diagnosis (yes or no). The results are shown in the contingency table below. Conduct a chi-square test for independence to determine if there is a significant association between  smoking status and lung cancer diagnosis.\n"
      ],
      "metadata": {
        "id": "J0JF2fKav0_I"
      }
    },
    {
      "cell_type": "code",
      "source": [
        "import numpy as np\n",
        "import scipy.stats as stats\n",
        "\n",
        "# Contingency table\n",
        "contingency_table = np.array([\n",
        "    [60, 140],\n",
        "    [30, 170]\n",
        "])\n",
        "\n",
        "# Chi-squared statistic\n",
        "chi_squared = stats.chi2_contingency(contingency_table)[0]\n",
        "\n",
        "# Significance level\n",
        "alpha = 0.05\n",
        "\n",
        "# p-value\n",
        "p_value = 1 - stats.chi2.cdf(chi_squared, df=2)\n",
        "\n",
        "# Print the results\n",
        "print(\"Chi-squared statistic:\", chi_squared)\n",
        "print(\"P-value:\", p_value)\n"
      ],
      "metadata": {
        "colab": {
          "base_uri": "https://localhost:8080/"
        },
        "id": "obokw0zxvtN7",
        "outputId": "0a8ca841-5838-447e-a02c-3aa511d1a145"
      },
      "execution_count": 15,
      "outputs": [
        {
          "output_type": "stream",
          "name": "stdout",
          "text": [
            "Chi-squared statistic: 12.057347670250895\n",
            "P-value: 0.0024086861764623935\n"
          ]
        }
      ]
    },
    {
      "cell_type": "markdown",
      "source": [
        "#Q10. A study was conducted to determine if the proportion of people who prefer milk chocolate, dark chocolate, or white chocolate is different in the U.S. versus the U.K. A random sample of 500 people from the U.S. and a random sample of 500 people from the U.K. were surveyed. The results are shown in the contingency table below. Conduct a chi-square test for independence to determine if there is a significant association between chocolate preference and country of origin."
      ],
      "metadata": {
        "id": "CMrUZHKXwWzk"
      }
    },
    {
      "cell_type": "code",
      "source": [
        "import numpy as np\n",
        "import scipy.stats as stats\n",
        "\n",
        "# Contingency table\n",
        "contingency_table = np.array([\n",
        "    [200, 150, 150],\n",
        "    [225, 175, 100]\n",
        "])\n",
        "\n",
        "# Chi-squared statistic\n",
        "chi_squared = stats.chi2_contingency(contingency_table)[0]\n",
        "\n",
        "# Significance level\n",
        "alpha = 0.01\n",
        "\n",
        "# p-value\n",
        "p_value = 1 - stats.chi2.cdf(chi_squared, df=4)\n",
        "\n",
        "# Print the results\n",
        "print(\"Chi-squared statistic:\", chi_squared)\n",
        "print(\"P-value:\", p_value)\n"
      ],
      "metadata": {
        "colab": {
          "base_uri": "https://localhost:8080/"
        },
        "id": "CB5wbHHrwIT-",
        "outputId": "009888eb-4216-47e5-aa57-d016acc6a22f"
      },
      "execution_count": 17,
      "outputs": [
        {
          "output_type": "stream",
          "name": "stdout",
          "text": [
            "Chi-squared statistic: 13.393665158371041\n",
            "P-value: 0.009504178943513963\n"
          ]
        }
      ]
    },
    {
      "cell_type": "markdown",
      "source": [
        "#Q11. A random sample of 30 people was selected from a population with an unknown mean and standard deviation. The sample mean was found to be 72 and the sample standard deviation was found to be 10. Conduct a hypothesis test to determine if the population mean is significantly different from 70. Use a significance level of 0.05."
      ],
      "metadata": {
        "id": "-FAriTdOwy9j"
      }
    },
    {
      "cell_type": "code",
      "source": [
        "import numpy as np\n",
        "import scipy.stats as stats\n",
        "\n",
        "# Sample mean\n",
        "sample_mean = 72\n",
        "\n",
        "# Sample standard deviation\n",
        "sample_standard_deviation = 10\n",
        "\n",
        "# Population mean\n",
        "population_mean = 70\n",
        "\n",
        "# Significance level\n",
        "alpha = 0.05\n",
        "\n",
        "# Test statistic\n",
        "z_score = (sample_mean - population_mean) / sample_standard_deviation\n",
        "\n",
        "# p-value\n",
        "p_value = 1 - stats.norm.cdf(z_score)\n",
        "\n",
        "# Print the results\n",
        "print(\"Z-score:\", z_score)\n",
        "print(\"P-value:\", p_value)\n"
      ],
      "metadata": {
        "colab": {
          "base_uri": "https://localhost:8080/"
        },
        "id": "jk4M1fIdwrM2",
        "outputId": "ebc35dde-ee24-4583-de49-fa915e6d614a"
      },
      "execution_count": 18,
      "outputs": [
        {
          "output_type": "stream",
          "name": "stdout",
          "text": [
            "Z-score: 0.2\n",
            "P-value: 0.420740290560897\n"
          ]
        }
      ]
    },
    {
      "cell_type": "code",
      "source": [],
      "metadata": {
        "id": "Vu0aHAxUw6yE"
      },
      "execution_count": null,
      "outputs": []
    }
  ]
}