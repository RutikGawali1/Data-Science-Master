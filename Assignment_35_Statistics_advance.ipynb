{
  "nbformat": 4,
  "nbformat_minor": 0,
  "metadata": {
    "colab": {
      "provenance": []
    },
    "kernelspec": {
      "name": "python3",
      "display_name": "Python 3"
    },
    "language_info": {
      "name": "python"
    }
  },
  "cells": [
    {
      "cell_type": "markdown",
      "source": [
        "#Q1. Write a Python function that takes in two arrays of data and calculates the F-value for a variance ratio test. The function should return the F-value and the corresponding p-value for the test.\n",
        "Ans -\n"
      ],
      "metadata": {
        "id": "lt5Nx85iFzZL"
      }
    },
    {
      "cell_type": "code",
      "execution_count": 5,
      "metadata": {
        "id": "tUP_-UJWFqLd",
        "colab": {
          "base_uri": "https://localhost:8080/"
        },
        "outputId": "4de32743-520e-4624-f083-7ee331b8d417"
      },
      "outputs": [
        {
          "output_type": "stream",
          "name": "stdout",
          "text": [
            "F-value: 12.022727272727273\n",
            "p-value: 0.008475310447976269\n"
          ]
        }
      ],
      "source": [
        "import numpy as np\n",
        "from scipy.stats import f_oneway\n",
        "\n",
        "def variance_ratio_test(arr1, arr2):\n",
        "    \"\"\"\n",
        "    Calculate the F-value and p-value for a variance ratio test.\n",
        "\n",
        "    Parameters:\n",
        "        arr1 (array-like): First array of data.\n",
        "        arr2 (array-like): Second array of data.\n",
        "\n",
        "    Returns:\n",
        "        F-value (float): The calculated F-value.\n",
        "        p-value (float): The corresponding p-value for the test.\n",
        "    \"\"\"\n",
        "    # Convert input arrays to NumPy arrays\n",
        "    arr1 = np.array(arr1)\n",
        "    arr2 = np.array(arr2)\n",
        "\n",
        "    # Perform the variance ratio test (F-test)\n",
        "    F, p_value = f_oneway(arr1, arr2)\n",
        "\n",
        "    return F, p_value\n",
        "data1 = [23, 31, 29, 37, 31]\n",
        "data2 = [17, 19, 21, 25, 23]\n",
        "\n",
        "F_value, p_value = variance_ratio_test(data1, data2)\n",
        "print(\"F-value:\", F_value)\n",
        "print(\"p-value:\", p_value)\n",
        "\n"
      ]
    },
    {
      "cell_type": "markdown",
      "source": [
        "#Q2. Given a significance level of 0.05 and the degrees of freedom for the numerator and denominator of an F-distribution, write a Python function that returns the critical F-value for a two-tailed test.\n",
        "Ans -\n"
      ],
      "metadata": {
        "id": "9rzC5L1j-fcj"
      }
    },
    {
      "cell_type": "code",
      "source": [
        "from scipy.stats import f\n",
        "\n",
        "def critical_f_value(alpha, df_num, df_denom):\n",
        "    \"\"\"\n",
        "    Calculate the critical F-value for a two-tailed test.\n",
        "\n",
        "    Parameters:\n",
        "        alpha (float): Significance level (e.g., 0.05).\n",
        "        df_num (int): Degrees of freedom for the numerator.\n",
        "        df_denom (int): Degrees of freedom for the denominator.\n",
        "\n",
        "    Returns:\n",
        "        critical_f (float): The critical F-value for the two-tailed test.\n",
        "    \"\"\"\n",
        "    # Calculate the critical F-value for a two-tailed test\n",
        "    critical_f = f.ppf(1 - alpha / 2, df_num, df_denom)\n",
        "\n",
        "    return critical_f\n",
        "alpha = 0.05\n",
        "df_num = 3\n",
        "df_denom = 20\n",
        "\n",
        "critical_f = critical_f_value(alpha, df_num, df_denom)\n",
        "print(\"Critical F-value:\", critical_f)\n"
      ],
      "metadata": {
        "colab": {
          "base_uri": "https://localhost:8080/"
        },
        "id": "D0DuQsxc8r5B",
        "outputId": "bdb9abcd-fcf9-4f71-eeed-fa84fe695341"
      },
      "execution_count": 6,
      "outputs": [
        {
          "output_type": "stream",
          "name": "stdout",
          "text": [
            "Critical F-value: 3.8586986662732143\n"
          ]
        }
      ]
    },
    {
      "cell_type": "markdown",
      "source": [
        "#Q3. Write a Python program that generates random samples from two normal distributions with known variances and uses an F-test to determine if the variances are equal. The program should output the F-value, degrees of freedom, and p-value for the test."
      ],
      "metadata": {
        "id": "N8TiGTa2_5ZQ"
      }
    },
    {
      "cell_type": "code",
      "source": [
        "import numpy as np\n",
        "from scipy.stats import f_oneway\n",
        "\n",
        "def generate_random_samples(mean1, var1, size1, mean2, var2, size2):\n",
        "    \"\"\"\n",
        "    Generate random samples from two normal distributions with known variances.\n",
        "\n",
        "    Parameters:\n",
        "        mean1 (float): Mean of the first normal distribution.\n",
        "        var1 (float): Variance of the first normal distribution.\n",
        "        size1 (int): Number of samples to generate from the first distribution.\n",
        "        mean2 (float): Mean of the second normal distribution.\n",
        "        var2 (float): Variance of the second normal distribution.\n",
        "        size2 (int): Number of samples to generate from the second distribution.\n",
        "\n",
        "    Returns:\n",
        "        samples1 (numpy array): Random samples from the first normal distribution.\n",
        "        samples2 (numpy array): Random samples from the second normal distribution.\n",
        "    \"\"\"\n",
        "    # Generate random samples from the normal distributions\n",
        "    samples1 = np.random.normal(mean1, np.sqrt(var1), size1)\n",
        "    samples2 = np.random.normal(mean2, np.sqrt(var2), size2)\n",
        "\n",
        "    return samples1, samples2\n",
        "\n",
        "def f_test_for_equal_variances(samples1, samples2):\n",
        "    \"\"\"\n",
        "    Perform F-test to determine if the variances of two samples are equal.\n",
        "\n",
        "    Parameters:\n",
        "        samples1 (numpy array): Samples from the first normal distribution.\n",
        "        samples2 (numpy array): Samples from the second normal distribution.\n",
        "\n",
        "    Returns:\n",
        "        F_value (float): The calculated F-value.\n",
        "        df_num (int): Degrees of freedom for the numerator.\n",
        "        df_denom (int): Degrees of freedom for the denominator.\n",
        "        p_value (float): The corresponding p-value for the test.\n",
        "    \"\"\"\n",
        "    # Perform the F-test for equal variances\n",
        "    F_value, p_value = f_oneway(samples1, samples2)\n",
        "    df_num = len(samples1) - 1\n",
        "    df_denom = len(samples2) - 1\n",
        "\n",
        "    return F_value, df_num, df_denom, p_value\n",
        "\n",
        "# Known variances of the normal distributions\n",
        "variance1 = 9  # Variance of the first normal distribution\n",
        "variance2 = 16  # Variance of the second normal distribution\n",
        "\n",
        "# Generate random samples from the two normal distributions\n",
        "sample_size1 = 30\n",
        "sample_size2 = 25\n",
        "mean1, mean2 = 0, 0\n",
        "samples1, samples2 = generate_random_samples(mean1, variance1, sample_size1, mean2, variance2, sample_size2)\n",
        "\n",
        "# Perform the F-test for equal variances\n",
        "F_value, df_num, df_denom, p_value = f_test_for_equal_variances(samples1, samples2)\n",
        "\n",
        "# Output the results\n",
        "print(\"F-value:\", F_value)\n",
        "print(\"Degrees of freedom (numerator):\", df_num)\n",
        "print(\"Degrees of freedom (denominator):\", df_denom)\n",
        "print(\"p-value:\", p_value)\n"
      ],
      "metadata": {
        "colab": {
          "base_uri": "https://localhost:8080/"
        },
        "id": "MMRShdcu_oqI",
        "outputId": "731e9f7f-c87e-4b9e-ca01-0dc1c42357af"
      },
      "execution_count": 7,
      "outputs": [
        {
          "output_type": "stream",
          "name": "stdout",
          "text": [
            "F-value: 5.285180113917253\n",
            "Degrees of freedom (numerator): 29\n",
            "Degrees of freedom (denominator): 24\n",
            "p-value: 0.02547889325248308\n"
          ]
        }
      ]
    },
    {
      "cell_type": "markdown",
      "source": [
        "#Q4.The variances of two populations are known to be 10 and 15. A sample of 12 observations is taken from each population. Conduct an F-test at the 5% significance level to determine if the variances are significantly different.\n",
        "Ans -"
      ],
      "metadata": {
        "id": "QeDK9n4eARc9"
      }
    },
    {
      "cell_type": "code",
      "source": [
        "import numpy as np\n",
        "from scipy.stats import f_oneway\n",
        "\n",
        "def f_test_for_equal_variances(samples1, samples2):\n",
        "    \"\"\"\n",
        "    Perform F-test to determine if the variances of two samples are equal.\n",
        "\n",
        "    Parameters:\n",
        "        samples1 (numpy array): Samples from the first population.\n",
        "        samples2 (numpy array): Samples from the second population.\n",
        "\n",
        "    Returns:\n",
        "        F_value (float): The calculated F-value.\n",
        "        p_value (float): The corresponding p-value for the test.\n",
        "    \"\"\"\n",
        "    # Perform the F-test for equal variances\n",
        "    F_value, p_value = f_oneway(samples1, samples2)\n",
        "\n",
        "    return F_value, p_value\n",
        "\n",
        "# Variances of the two populations\n",
        "variance1 = 10\n",
        "variance2 = 15\n",
        "\n",
        "# Sample size from each population\n",
        "sample_size = 12\n",
        "\n",
        "# Generate random samples from the two populations\n",
        "mean1, mean2 = 0, 0\n",
        "samples1 = np.random.normal(mean1, np.sqrt(variance1), sample_size)\n",
        "samples2 = np.random.normal(mean2, np.sqrt(variance2), sample_size)\n",
        "\n",
        "# Perform the F-test for equal variances\n",
        "F_value, p_value = f_test_for_equal_variances(samples1, samples2)\n",
        "\n",
        "# Output the results\n",
        "print(\"F-value:\", F_value)\n",
        "print(\"p-value:\", p_value)\n"
      ],
      "metadata": {
        "colab": {
          "base_uri": "https://localhost:8080/"
        },
        "id": "AFlyJKpT_-j5",
        "outputId": "3a114140-5682-4878-c420-e49adc88cc6a"
      },
      "execution_count": 8,
      "outputs": [
        {
          "output_type": "stream",
          "name": "stdout",
          "text": [
            "F-value: 0.2942218408118847\n",
            "p-value: 0.5929804517617849\n"
          ]
        }
      ]
    },
    {
      "cell_type": "markdown",
      "source": [
        "#Q5. A manufacturer claims that the variance of the diameter of a certain product is 0.005. A sample of 25 products is taken, and the sample variance is found to be 0.006. Conduct an F-test at the 1% significance level to determine if the claim is justified.\n",
        "Ans -\n"
      ],
      "metadata": {
        "id": "qGS-BqIln3m8"
      }
    },
    {
      "cell_type": "code",
      "source": [
        "import numpy as np\n",
        "from scipy.stats import f_oneway, f\n",
        "\n",
        "def f_test_for_variance(variance_claim, sample_variance, sample_size, alpha):\n",
        "    \"\"\"\n",
        "    Perform F-test to determine if the claim about the variance is justified.\n",
        "\n",
        "    Parameters:\n",
        "        variance_claim (float): The claimed variance value.\n",
        "        sample_variance (float): Sample variance value.\n",
        "        sample_size (int): Number of observations in the sample.\n",
        "        alpha (float): Significance level for the test.\n",
        "\n",
        "    Returns:\n",
        "        F_value (float): The calculated F-value.\n",
        "        p_value (float): The corresponding p-value for the test.\n",
        "        critical_f (float): The critical F-value for the given alpha and degrees of freedom.\n",
        "    \"\"\"\n",
        "    # Calculate the degrees of freedom for the numerator and denominator\n",
        "    df_num = sample_size - 1\n",
        "    df_denom = sample_size - 1\n",
        "\n",
        "    # Perform the F-test for equal variances\n",
        "    F_value, p_value = f_oneway([sample_variance], [variance_claim])\n",
        "\n",
        "    # Calculate the critical F-value at the given significance level and degrees of freedom\n",
        "    critical_f = f.ppf(1 - alpha, df_num, df_denom)\n",
        "\n",
        "    return F_value, p_value, critical_f\n",
        "\n",
        "# Given data\n",
        "variance_claim = 0.005\n",
        "sample_variance = 0.006\n",
        "sample_size = 25\n",
        "alpha = 0.01  # 1% significance level\n",
        "\n",
        "# Perform the F-test for the given claim\n",
        "F_value, p_value, critical_f = f_test_for_variance(variance_claim, sample_variance, sample_size, alpha)\n",
        "\n",
        "# Output the results\n",
        "print(\"F-value:\", F_value)\n",
        "print(\"p-value:\", p_value)\n",
        "print(\"Critical F-value:\", critical_f)\n",
        "\n",
        "# Determine if the claim is justified or not\n",
        "if F_value > critical_f:\n",
        "    print(\"The claim is not justified. The sample variance is significantly different from the claimed variance.\")\n",
        "else:\n",
        "    print(\"The claim is justified. The sample variance is not significantly different from the claimed variance.\")\n"
      ],
      "metadata": {
        "colab": {
          "base_uri": "https://localhost:8080/"
        },
        "id": "pKlojbXaC9WG",
        "outputId": "0bbe8fb6-d734-4b6e-a065-93ad253c9031"
      },
      "execution_count": 9,
      "outputs": [
        {
          "output_type": "stream",
          "name": "stdout",
          "text": [
            "F-value: nan\n",
            "p-value: nan\n",
            "Critical F-value: 2.659072104348157\n",
            "The claim is justified. The sample variance is not significantly different from the claimed variance.\n"
          ]
        },
        {
          "output_type": "stream",
          "name": "stderr",
          "text": [
            "/usr/local/lib/python3.10/dist-packages/scipy/stats/_stats_py.py:3869: DegenerateDataWarning: all input arrays have length 1.  f_oneway requires that at least one input has length greater than 1.\n",
            "  warnings.warn(stats.DegenerateDataWarning(msg))\n"
          ]
        }
      ]
    },
    {
      "cell_type": "markdown",
      "source": [
        "#Q6.Write a Python function that takes in the degrees of freedom for the numerator and denominator of an F-distribution and calculates the mean and variance of the distribution. The function should return the mean and variance as a tuple.\n",
        "Ans -\n"
      ],
      "metadata": {
        "id": "F_96gCn5oGiP"
      }
    },
    {
      "cell_type": "code",
      "source": [
        "def f_distribution_mean_variance(df_num, df_denom):\n",
        "    \"\"\"\n",
        "    Calculate the mean and variance of an F-distribution.\n",
        "\n",
        "    Parameters:\n",
        "        df_num (int): Degrees of freedom for the numerator.\n",
        "        df_denom (int): Degrees of freedom for the denominator.\n",
        "\n",
        "    Returns:\n",
        "        mean (float): The mean of the F-distribution.\n",
        "        variance (float): The variance of the F-distribution.\n",
        "    \"\"\"\n",
        "    # Check if degrees of freedom are greater than 2 for both numerator and denominator\n",
        "    if df_num <= 0 or df_denom <= 0:\n",
        "        raise ValueError(\"Degrees of freedom for the numerator and denominator must be greater than zero.\")\n",
        "\n",
        "    # Calculate the mean of the F-distribution\n",
        "    if df_denom > 2:\n",
        "        mean = df_denom / (df_denom - 2)\n",
        "    else:\n",
        "        mean = float('inf')  # F-distribution is undefined for degrees of freedom <= 2\n",
        "\n",
        "    # Calculate the variance of the F-distribution\n",
        "    if df_denom > 4:\n",
        "        variance = (2 * (df_denom ** 2) * (df_num + df_denom - 2)) / (df_num * ((df_denom - 2) ** 2) * (df_denom - 4))\n",
        "    else:\n",
        "        variance = float('inf')  # F-distribution is undefined for degrees of freedom <= 4\n",
        "\n",
        "    return mean, variance\n"
      ],
      "metadata": {
        "id": "UmvWZ4Oxn_se"
      },
      "execution_count": 10,
      "outputs": []
    },
    {
      "cell_type": "code",
      "source": [
        "df_num = 5\n",
        "df_denom = 20\n",
        "\n",
        "mean, variance = f_distribution_mean_variance(df_num, df_denom)\n",
        "print(\"Mean of the F-distribution:\", mean)\n",
        "print(\"Variance of the F-distribution:\", variance)\n"
      ],
      "metadata": {
        "colab": {
          "base_uri": "https://localhost:8080/"
        },
        "id": "M1DQokK6orUo",
        "outputId": "15022830-4a02-4c3c-dff1-db1ff4292596"
      },
      "execution_count": 11,
      "outputs": [
        {
          "output_type": "stream",
          "name": "stdout",
          "text": [
            "Mean of the F-distribution: 1.1111111111111112\n",
            "Variance of the F-distribution: 0.7098765432098766\n"
          ]
        }
      ]
    },
    {
      "cell_type": "markdown",
      "source": [
        "#Q7. A random sample of 10 measurements is taken from a normal population with unknown variance. The sample variance is found to be 25. Another random sample of 15 measurements is taken from another normal population with unknown variance, and the sample variance is found to be 20. Conduct an F-test at the 10% significance level to determine if the variances are significantly different."
      ],
      "metadata": {
        "id": "kGsTcybCowBy"
      }
    },
    {
      "cell_type": "code",
      "source": [
        "import numpy as np\n",
        "from scipy.stats import f_oneway\n",
        "\n",
        "def f_test_for_equal_variances(sample_var1, sample_var2, sample_size1, sample_size2, alpha):\n",
        "    \"\"\"\n",
        "    Perform F-test to determine if the variances of two samples are equal.\n",
        "\n",
        "    Parameters:\n",
        "        sample_var1 (float): Sample variance value of the first population.\n",
        "        sample_var2 (float): Sample variance value of the second population.\n",
        "        sample_size1 (int): Number of observations in the first sample.\n",
        "        sample_size2 (int): Number of observations in the second sample.\n",
        "        alpha (float): Significance level for the test.\n",
        "\n",
        "    Returns:\n",
        "        F_value (float): The calculated F-value.\n",
        "        p_value (float): The corresponding p-value for the test.\n",
        "        critical_f (float): The critical F-value for the given alpha and degrees of freedom.\n",
        "    \"\"\"\n",
        "    # Calculate the degrees of freedom for the numerator and denominator\n",
        "    df_num = sample_size1 - 1\n",
        "    df_denom = sample_size2 - 1\n",
        "\n",
        "    # Calculate the F-value and p-value for the F-test\n",
        "    F_value, p_value = f_oneway([sample_var1], [sample_var2])\n",
        "\n",
        "    # Calculate the critical F-value at the given significance level and degrees of freedom\n",
        "    critical_f = f.ppf(1 - alpha, df_num, df_denom)\n",
        "\n",
        "    return F_value, p_value, critical_f\n",
        "\n",
        "# Given data\n",
        "sample_var1 = 25\n",
        "sample_var2 = 20\n",
        "sample_size1 = 10\n",
        "sample_size2 = 15\n",
        "alpha = 0.10  # 10% significance level\n",
        "\n",
        "# Perform the F-test for equal variances\n",
        "F_value, p_value, critical_f = f_test_for_equal_variances(sample_var1, sample_var2, sample_size1, sample_size2, alpha)\n",
        "\n",
        "# Output the results\n",
        "print(\"F-value:\", F_value)\n",
        "print(\"p-value:\", p_value)\n",
        "print(\"Critical F-value:\", critical_f)\n",
        "\n",
        "# Determine if the variances are significantly different or not\n",
        "if F_value > critical_f:\n",
        "    print(\"The variances are significantly different at the 10% significance level.\")\n",
        "else:\n",
        "    print(\"The variances are not significantly different at the 10% significance level.\")\n"
      ],
      "metadata": {
        "colab": {
          "base_uri": "https://localhost:8080/"
        },
        "id": "x9uEMJieo2rs",
        "outputId": "09077842-da9b-4aa3-f841-846b6168491c"
      },
      "execution_count": 14,
      "outputs": [
        {
          "output_type": "stream",
          "name": "stdout",
          "text": [
            "F-value: nan\n",
            "p-value: nan\n",
            "Critical F-value: 2.121954566976902\n",
            "The variances are not significantly different at the 10% significance level.\n"
          ]
        }
      ]
    },
    {
      "cell_type": "markdown",
      "source": [
        "#Q8. The following data represent the waiting times in minutes at two different restaurants on a Saturday night: Restaurant A: 24, 25, 28, 23, 22, 20, 27; Restaurant B: 31, 33, 35, 30, 32, 36. Conduct an F-test at the 5% significance level to determine if the variances are significantly different."
      ],
      "metadata": {
        "id": "0uwrlHdAo9my"
      }
    },
    {
      "cell_type": "code",
      "source": [
        "import numpy as np\n",
        "from scipy.stats import f_oneway\n",
        "\n",
        "def f_test_for_equal_variances(samples1, samples2, alpha):\n",
        "    \"\"\"\n",
        "    Perform F-test to determine if the variances of two samples are equal.\n",
        "\n",
        "    Parameters:\n",
        "        samples1 (array-like): Samples from the first population.\n",
        "        samples2 (array-like): Samples from the second population.\n",
        "        alpha (float): Significance level for the test.\n",
        "\n",
        "    Returns:\n",
        "        F_value (float): The calculated F-value.\n",
        "        p_value (float): The corresponding p-value for the test.\n",
        "        critical_f (float): The critical F-value for the given alpha and degrees of freedom.\n",
        "    \"\"\"\n",
        "    # Calculate the degrees of freedom for the numerator and denominator\n",
        "    df_num = len(samples1) - 1\n",
        "    df_denom = len(samples2) - 1\n",
        "\n",
        "    # Perform the F-test for equal variances\n",
        "    F_value, p_value = f_oneway(samples1, samples2)\n",
        "\n",
        "    # Calculate the critical F-value at the given significance level and degrees of freedom\n",
        "    critical_f = f.ppf(1 - alpha, df_num, df_denom)\n",
        "\n",
        "    return F_value, p_value, critical_f\n",
        "\n",
        "# Data for waiting times at Restaurant A and Restaurant B\n",
        "restaurant_a_waiting_times = np.array([24, 25, 28, 23, 22, 20, 27])\n",
        "restaurant_b_waiting_times = np.array([31, 33, 35, 30, 32, 36])\n",
        "\n",
        "# Significance level for the F-test\n",
        "alpha = 0.05  # 5% significance level\n",
        "\n",
        "# Perform the F-test for equal variances\n",
        "F_value, p_value, critical_f = f_test_for_equal_variances(restaurant_a_waiting_times, restaurant_b_waiting_times, alpha)\n",
        "\n",
        "# Output the results\n",
        "print(\"F-value:\", F_value)\n",
        "print(\"p-value:\", p_value)\n",
        "print(\"Critical F-value:\", critical_f)\n",
        "\n",
        "# Determine if the variances are significantly different or not\n",
        "if F_value > critical_f:\n",
        "    print(\"The variances are significantly different at the 5% significance level.\")\n",
        "else:\n",
        "    print(\"The variances are not significantly different at the 5% significance level.\")\n"
      ],
      "metadata": {
        "colab": {
          "base_uri": "https://localhost:8080/"
        },
        "id": "eNqxmm_Io4si",
        "outputId": "22862ad7-1a90-41b0-ccb8-6440a19cfe70"
      },
      "execution_count": 15,
      "outputs": [
        {
          "output_type": "stream",
          "name": "stdout",
          "text": [
            "F-value: 36.42289051820553\n",
            "p-value: 8.48759371471029e-05\n",
            "Critical F-value: 4.950288068694318\n",
            "The variances are significantly different at the 5% significance level.\n"
          ]
        }
      ]
    },
    {
      "cell_type": "markdown",
      "source": [
        "#Q9. The following data represent the test scores of two groups of students: Group A: 80, 85, 90, 92, 87, 83; Group B: 75, 78, 82, 79, 81, 84. Conduct an F-test at the 1% significance level to determine if the variances are significantly different."
      ],
      "metadata": {
        "id": "kNgYQ5bupSJK"
      }
    },
    {
      "cell_type": "code",
      "source": [
        "import numpy as np\n",
        "from scipy.stats import f_oneway\n",
        "\n",
        "def f_test_for_equal_variances(samples1, samples2, alpha):\n",
        "    \"\"\"\n",
        "    Perform F-test to determine if the variances of two samples are equal.\n",
        "\n",
        "    Parameters:\n",
        "        samples1 (array-like): Samples from the first group.\n",
        "        samples2 (array-like): Samples from the second group.\n",
        "        alpha (float): Significance level for the test.\n",
        "\n",
        "    Returns:\n",
        "        F_value (float): The calculated F-value.\n",
        "        p_value (float): The corresponding p-value for the test.\n",
        "        critical_f (float): The critical F-value for the given alpha and degrees of freedom.\n",
        "    \"\"\"\n",
        "    # Calculate the degrees of freedom for the numerator and denominator\n",
        "    df_num = len(samples1) - 1\n",
        "    df_denom = len(samples2) - 1\n",
        "\n",
        "    # Perform the F-test for equal variances\n",
        "    F_value, p_value = f_oneway(samples1, samples2)\n",
        "\n",
        "    # Calculate the critical F-value at the given significance level and degrees of freedom\n",
        "    critical_f = f.ppf(1 - alpha, df_num, df_denom)\n",
        "\n",
        "    return F_value, p_value, critical_f\n",
        "\n",
        "# Data for test scores in Group A and Group B\n",
        "group_a_test_scores = np.array([80, 85, 90, 92, 87, 83])\n",
        "group_b_test_scores = np.array([75, 78, 82, 79, 81, 84])\n",
        "\n",
        "# Significance level for the F-test\n",
        "alpha = 0.01  # 1% significance level\n",
        "\n",
        "# Perform the F-test for equal variances\n",
        "F_value, p_value, critical_f = f_test_for_equal_variances(group_a_test_scores, group_b_test_scores, alpha)\n",
        "\n",
        "# Output the results\n",
        "print(\"F-value:\", F_value)\n",
        "print(\"p-value:\", p_value)\n",
        "print(\"Critical F-value:\", critical_f)\n",
        "\n",
        "# Determine if the variances are significantly different or not\n",
        "if F_value > critical_f:\n",
        "    print(\"The variances are significantly different at the 1% significance level.\")\n",
        "else:\n",
        "    print(\"The variances are not significantly different at the 1% significance level.\")\n"
      ],
      "metadata": {
        "colab": {
          "base_uri": "https://localhost:8080/"
        },
        "id": "BrbX23CmpM6M",
        "outputId": "2c680653-7f48-4a47-da6c-bcd025d0fd67"
      },
      "execution_count": 16,
      "outputs": [
        {
          "output_type": "stream",
          "name": "stdout",
          "text": [
            "F-value: 8.040089086859687\n",
            "p-value: 0.017684171924487787\n",
            "Critical F-value: 10.967020650907992\n",
            "The variances are not significantly different at the 1% significance level.\n"
          ]
        }
      ]
    }
  ]
}