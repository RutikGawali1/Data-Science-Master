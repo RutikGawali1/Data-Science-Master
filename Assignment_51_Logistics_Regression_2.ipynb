{
  "nbformat": 4,
  "nbformat_minor": 0,
  "metadata": {
    "colab": {
      "provenance": []
    },
    "kernelspec": {
      "name": "python3",
      "display_name": "Python 3"
    },
    "language_info": {
      "name": "python"
    }
  },
  "cells": [
    {
      "cell_type": "code",
      "execution_count": 3,
      "metadata": {
        "colab": {
          "base_uri": "https://localhost:8080/",
          "height": 593
        },
        "id": "v8wQ8fdWjchK",
        "outputId": "2c18576a-3ab8-4626-bc68-20ab6bf8a86c"
      },
      "outputs": [
        {
          "output_type": "stream",
          "name": "stdout",
          "text": [
            "Confusion Matrix:\n",
            " [[4 1]\n",
            " [1 4]]\n",
            "Accuracy: 0.80\n",
            "Precision: 0.80\n",
            "Recall: 0.80\n",
            "F1-Score: 0.80\n"
          ]
        },
        {
          "output_type": "display_data",
          "data": {
            "text/plain": [
              "<Figure size 640x480 with 2 Axes>"
            ],
            "image/png": "[encoded data removed]"
          },
          "metadata": {}
        }
      ],
      "source": [
        "### Q1. Purpose of Grid Search CV\n",
        "\n",
        "# - Grid Search CV is used to find the best combination of hyperparameters for a machine learning model.\n",
        "# - It works by exhaustively searching through a specified grid of hyperparameter values and evaluating the model’s performance using cross-validation.\n",
        "# - Example: Tuning the number of trees and max depth in a Random Forest.\n",
        "\n",
        "### Q2. Grid Search CV vs. Randomized Search CV\n",
        "\n",
        "# - Grid Search CV:\n",
        "#   - Exhaustively tests all combinations of hyperparameters.\n",
        "#   - More thorough but computationally expensive.\n",
        "# - Randomized Search CV:\n",
        "#   - Tests a random subset of hyperparameter combinations.\n",
        "#   - Faster and more efficient for large hyperparameter spaces.\n",
        "# - Choose Grid Search for smaller grids and Randomized Search for larger, more complex grids.\n",
        "\n",
        "### Q3. Data Leakage\n",
        "\n",
        "# - Data leakage occurs when information from outside the training dataset is used to create the model.\n",
        "# - This leads to overly optimistic performance estimates and poor generalization.\n",
        "# - Example: Including future data or target variable information in the feature set.\n",
        "\n",
        "### Q4. Preventing Data Leakage\n",
        "\n",
        "# - Ensure proper train-test split before any data preprocessing.\n",
        "# - Use pipelines to encapsulate data preprocessing and modeling.\n",
        "# - Avoid using features that would not be available at prediction time.\n",
        "\n",
        "### Q5. Confusion Matrix\n",
        "\n",
        "# - A confusion matrix is a table that summarizes the performance of a classification model by showing the counts of true positives (TP), true negatives (TN), false positives (FP), and false negatives (FN).\n",
        "# - Example:\n",
        "#   - Predicted: [Positive, Negative]\n",
        "#   - Actual: [[TP, FN], [FP, TN]]\n",
        "\n",
        "### Q6. Precision vs. Recall\n",
        "\n",
        "# - Precision: Proportion of true positives among all predicted positives. \\( \\text{Precision} = \\frac{TP}{TP + FP} \\)\n",
        "# - Recall: Proportion of true positives among all actual positives. \\( \\text{Recall} = \\frac{TP}{TP + FN} \\)\n",
        "# - Precision focuses on reducing false positives, while recall focuses on reducing false negatives.\n",
        "\n",
        "### Q7. Interpreting Confusion Matrix\n",
        "\n",
        "# - Identify:\n",
        "#   - False Positives: Cases incorrectly predicted as positive.\n",
        "#   - False Negatives: Cases incorrectly predicted as negative.\n",
        "# - Focus on which error type has more severe consequences for the application.\n",
        "\n",
        "### Q8. Common Metrics Derived from Confusion Matrix\n",
        "\n",
        "# - Accuracy: \\( \\frac{TP + TN}{TP + TN + FP + FN} \\)\n",
        "# - Precision: \\( \\frac{TP}{TP + FP} \\)\n",
        "# - Recall: \\( \\frac{TP}{TP + FN} \\)\n",
        "# - F1-Score: Harmonic mean of precision and recall. \\( F1 = 2 \\cdot \\frac{\\text{Precision} \\cdot \\text{Recall}}{\\text{Precision} + \\text{Recall}} \\)\n",
        "# - Specificity: \\( \\frac{TN}{TN + FP} \\)\n",
        "\n",
        "### Q9. Accuracy and Confusion Matrix\n",
        "\n",
        "# - Accuracy depends on the proportion of correctly predicted instances (TP + TN) to the total instances.\n",
        "# - It can be misleading in imbalanced datasets where the majority class dominates.\n",
        "\n",
        "### Q10. Identifying Biases with Confusion Matrix\n",
        "\n",
        "# - Analyze:\n",
        "#   - High FP: Indicates over-prediction of the positive class.\n",
        "#   - High FN: Indicates under-prediction of the positive class.\n",
        "# - Check class-wise performance to identify bias toward specific classes.\n",
        "\n",
        "### Example Code:\n",
        "\n",
        "import numpy as np\n",
        "import pandas as pd\n",
        "from sklearn.metrics import confusion_matrix, classification_report, accuracy_score, precision_score, recall_score, f1_score\n",
        "import seaborn as sns\n",
        "import matplotlib.pyplot as plt\n",
        "\n",
        "# Sample Data\n",
        "y_true = [1, 0, 1, 1, 0, 1, 0, 0, 1, 0]\n",
        "y_pred = [1, 0, 1, 0, 0, 1, 1, 0, 1, 0]\n",
        "\n",
        "# Confusion Matrix\n",
        "cm = confusion_matrix(y_true, y_pred)\n",
        "print(\"Confusion Matrix:\\n\", cm)\n",
        "\n",
        "# Metrics\n",
        "accuracy = accuracy_score(y_true, y_pred)\n",
        "precision = precision_score(y_true, y_pred)\n",
        "recall = recall_score(y_true, y_pred)\n",
        "f1 = f1_score(y_true, y_pred)\n",
        "\n",
        "print(f\"Accuracy: {accuracy:.2f}\")\n",
        "print(f\"Precision: {precision:.2f}\")\n",
        "print(f\"Recall: {recall:.2f}\")\n",
        "print(f\"F1-Score: {f1:.2f}\")\n",
        "\n",
        "# Plot Confusion Matrix\n",
        "sns.heatmap(cm, annot=True, fmt='d', cmap='Blues', xticklabels=['Negative', 'Positive'], yticklabels=['Negative', 'Positive'])\n",
        "plt.xlabel('Predicted')\n",
        "plt.ylabel('Actual')\n",
        "plt.title('Confusion Matrix')\n",
        "plt.show()\n"
      ]
    }
  ]
}