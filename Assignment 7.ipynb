{
 "cells": [
  {
   "cell_type": "markdown",
   "id": "4969038c-b931-4eef-b162-bac826713e1a",
   "metadata": {},
   "source": [
    "Q1. What is Abstraction in OOps? Explain with an example.\n",
    "\n",
    "\n",
    "Ans:- It is the process of hiding the implementation details and showing only the functionality to the user. In other words, it is a way of representing complex real-world problems in a simplified manner.\n",
    "\n",
    "Example, consider a car. A car has many parts like engine, wheels, steering wheel, etc. The user does not need to know how these parts work internally. They only need to know how to drive the car."
   ]
  },
  {
   "cell_type": "markdown",
   "id": "b301bc46-56b4-4b15-934c-766f990ad406",
   "metadata": {},
   "source": [
    "Q2. Differentiate between Abstraction and Encapsulation. Explain with an example.\n",
    "\n",
    "\n",
    "Ans:-Abstraction is the process of hiding the implementation details and showing only the functionality to the user. It is used to manage complexity by hiding unnecessary details from the user.\n",
    "\n",
    "\n",
    "Encapsulation is the process of wrapping data and methods into a single unit or object. It is used to protect data from unauthorized access by making it private and providing access through public methods.\n",
    "\n",
    "Example of Abstraction: A car is an example of abstraction because it hides the internal details of how it works from the user. The user only needs to know how to drive it, not how it works internally.\n",
    "\n",
    "\n",
    "Example of Encapsulation: A class in Pyhton is an example of encapsulation because it wraps data and methods into a single unit or object. The data is made private so that it cannot be accessed directly from outside the class. Access to the data is provided through public methods.\n",
    "\n"
   ]
  },
  {
   "cell_type": "markdown",
   "id": "a937ead1-bca6-415b-9cae-237cca82d2a9",
   "metadata": {},
   "source": [
    "Q3. What is abc module in python? Why is it used?\n",
    "\n",
    "The ‘abc’ module in Python library provides the infrastructure for defining custom abstract base classes. It works by marking methods of the base class as abstract using the @absttractmethod decorator.\n",
    "A concrete class which is a sub class of such abstract base class then implements the abstract base by overriding its abstract methods. "
   ]
  },
  {
   "cell_type": "markdown",
   "id": "7ba3b9ac-0fc7-4f74-89f2-1ca52f2b656e",
   "metadata": {},
   "source": [
    "Q4. How can we achieve data abstraction?\n",
    "\n",
    "Ans:- Data Abstraction in Python can be achieved through creating abstract classes and inheriting them later.\n",
    "\n",
    "The main focus of data abstraction is to separate the interface and the implementation of the program."
   ]
  },
  {
   "cell_type": "markdown",
   "id": "709e60e0-9724-490b-8d0a-8495c426f8cb",
   "metadata": {},
   "source": [
    "Q5. Can we create an instance of an abstract class? Explain your answer.\n",
    "\n",
    "Ans:- you cannot create an instance of an abstract class. The whole point of an abstract class is that it’s abstract – you’ve defined an interface but not an implementation. Without an implementation, instantiating the class wouldn’t produce a meaningful or useful result.\n"
   ]
  },
  {
   "cell_type": "code",
   "execution_count": null,
   "id": "14f6c9a5-4229-4aff-8a5b-7b72c226ad96",
   "metadata": {},
   "outputs": [],
   "source": []
  }
 ],
 "metadata": {
  "kernelspec": {
   "display_name": "Python 3 (ipykernel)",
   "language": "python",
   "name": "python3"
  },
  "language_info": {
   "codemirror_mode": {
    "name": "ipython",
    "version": 3
   },
   "file_extension": ".py",
   "mimetype": "text/x-python",
   "name": "python",
   "nbconvert_exporter": "python",
   "pygments_lexer": "ipython3",
   "version": "3.10.8"
  }
 },
 "nbformat": 4,
 "nbformat_minor": 5
}
