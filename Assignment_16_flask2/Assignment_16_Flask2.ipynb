{
  "nbformat": 4,
  "nbformat_minor": 0,
  "metadata": {
    "colab": {
      "provenance": []
    },
    "kernelspec": {
      "name": "python3",
      "display_name": "Python 3"
    },
    "language_info": {
      "name": "python"
    }
  },
  "cells": [
    {
      "cell_type": "markdown",
      "source": [
        "##Q1. Explain GET and POST methods.\n",
        "\n",
        "Ans  -\n",
        "GET and POST are two commonly used HTTP methods for sending requests and receiving responses between a client (such as a web browser) and a server.\n",
        "\n",
        "- GET Method:\n",
        "\n",
        "The GET method is used to retrieve data or resources from a server.\n",
        "When a client sends a GET request, it appends the data as part of the URL in the query string.\n",
        "The GET method is designed to be idempotent, meaning that multiple identical requests should have the same effect as a single request.\n",
        "It is a safe and read-only method, as it does not modify any data on the server.\n",
        "GET requests should not have any side effects on the server or the data it accesses.\n",
        "\n",
        "- POST Method:\n",
        "\n",
        "The POST method is used to submit data to be processed by a server.\n",
        "When a client sends a POST request, the data is included in the body of the request, rather than in the URL.\n",
        "The POST method is not idempotent, as multiple identical requests may have different effects.\n",
        "It can be used for various purposes, such as submitting form data, creating new resources, or updating existing resources on the server.\n",
        "POST requests can have side effects on the server or the data it operates on."
      ],
      "metadata": {
        "id": "FEffE3gX8IEx"
      }
    },
    {
      "cell_type": "code",
      "source": [],
      "metadata": {
        "id": "vaumJki98JwA"
      },
      "execution_count": null,
      "outputs": []
    },
    {
      "cell_type": "markdown",
      "source": [
        "##Q2. Why is request used in Flask?\n",
        "Ans - In Flask, the request object is used to handle incoming HTTP requests made by clients to the server. It provides access to various attributes and methods that allow developers to retrieve and process data sent by the client as part of the request.\n",
        "- Accessing Request Data: The request object allows you to access data sent by the client in the request. This includes data from query parameters, form data, JSON payloads, uploaded files, cookies, headers, and more. You can use the request object to retrieve and manipulate this data within your Flask application.\n",
        "\n",
        "- Handling Different HTTP Methods: The request object helps you handle different HTTP methods, such as GET, POST, PUT, DELETE, etc. You can use the request.method attribute to determine the method used in the request and perform appropriate actions accordingly. For example, you can retrieve form data from a POST request or fetch data based on query parameters from a GET request.\n",
        "\n",
        "- Route Parameter Extraction: Flask allows you to define dynamic routes with parameters that are extracted from the URL. The request object provides access to these route parameters through the request.args attribute. You can retrieve these parameters and use them in your application logic."
      ],
      "metadata": {
        "id": "JFKYBuJ88jlq"
      }
    },
    {
      "cell_type": "markdown",
      "source": [
        "##Q3. Why is redirect() used in Flask?\n",
        "Ans -\n",
        "In Flask, the redirect() function is used to redirect the client's web browser to a different URL. It is commonly used when you want to redirect the user to another page or route within your Flask application or even to an external URL.\n",
        "- Changing Page or Route: After performing a certain action or completing a request, you may want to redirect the user to a different page or route within your application. The redirect() function allows you to specify the URL or route to which the user should be redirected.\n",
        "\n",
        "- Handling Form Submissions: When a form is submitted by the user, you might want to redirect them to another page or route after processing the form data. For example, after a user submits a contact form, you can redirect them to a thank you page using redirect().\n",
        "\n",
        "- Handling Authentication and Authorization: When implementing user authentication or authorization, you may need to redirect the user to a login page or a different route if they are not authorized to access a certain resource. redirect() helps in redirecting users to the appropriate pages based on their authentication status."
      ],
      "metadata": {
        "id": "BBhJPzqEObHi"
      }
    },
    {
      "cell_type": "markdown",
      "source": [
        "Q4. What are templates in Flask? Why is the render_template() function used?\n",
        "Ans -\n",
        "- In Flask, templates are files that contain HTML markup along with placeholders for dynamic content. They are used to separate the presentation logic from the application logic, allowing developers to create dynamic web pages by injecting data into the placeholders within the templates.\n",
        "\n",
        "-Presentation Flexibility: Templates provide flexibility in terms of customizing the look and feel of your web pages. You can use HTML, CSS, and even template-specific languages (such as Jinja2 in Flask) to create dynamic and visually appealing user interfaces.\n",
        "\n",
        "- The render_template() function in Flask is used to render the specified template file and return the rendered HTML to the client. It takes the name of the template file as an argument and optionally accepts additional data as keyword arguments. Here's why the render_template() function is used:\n",
        "\n",
        "- Rendering Templates: The primary purpose of the render_template() function is to render the specified template file. It searches for the template in the configured template directory and processes it, replacing the placeholders with the actual data provided.\n",
        "\n",
        "- Passing Data to Templates: The render_template() function allows you to pass data to the template as keyword arguments. This data can be variables, objects, or any other data that you want to display dynamically within the template. The placeholders within the template can access and display this data.\n",
        "\n",
        "- Jinja2 Templating Engine: Flask uses the Jinja2 templating engine by default. The render_template() function integrates with Jinja2 and enables the execution of Jinja2 template files. Jinja2 provides powerful features like template inheritance, conditionals, loops, filters, and more, which can be utilized within your Flask application.\n"
      ],
      "metadata": {
        "id": "GYmrGc4PPivY"
      }
    },
    {
      "cell_type": "markdown",
      "source": [
        "##Q5. Create a simple API. Use Postman to test it. Attach the screenshot of the output in the Jupyter Notebook.\n",
        "Ans -\n"
      ],
      "metadata": {
        "id": "1cYLS-U1PiHT"
      }
    },
    {
      "cell_type": "code",
      "source": [],
      "metadata": {
        "id": "2vHsjyQJMVvu"
      },
      "execution_count": null,
      "outputs": []
    }
  ]
}