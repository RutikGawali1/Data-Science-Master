{
  "nbformat": 4,
  "nbformat_minor": 0,
  "metadata": {
    "colab": {
      "provenance": []
    },
    "kernelspec": {
      "name": "python3",
      "display_name": "Python 3"
    },
    "language_info": {
      "name": "python"
    }
  },
  "cells": [
    {
      "cell_type": "markdown",
      "source": [
        "#Q1. Explain the assumptions required to use ANOVA and provide examples of violations that could impact the validity of the results.\n",
        "Ans - ANOVA (Analysis of Variance) is a statistical method used to compare the means of two or more groups to determine if there are significant differences between them. However, ANOVA is based on several assumptions that need to be met for the results to be valid. These assumptions are:\n",
        "\n",
        "Independence of observations: The observations in each group must be independent of each other. This means that the value of one observation should not be influenced by the value of another observation.\n",
        "\n",
        "Normality: The data within each group should follow a normal distribution. This assumption is particularly important when the sample sizes are small. In larger samples, ANOVA can be robust to moderate departures from normality.\n",
        "\n",
        "Homogeneity of variance: The variance of the dependent variable should be roughly equal across all groups. Unequal variances can lead to misleading results and affect the power of the ANOVA.\n",
        "\n",
        "Equality of group sizes (for one-way ANOVA): In a one-way ANOVA, where there is only one independent variable, having equal group sizes enhances the validity of the results. However, ANOVA can still be applied to groups with unequal sizes, but it might reduce the statistical power.\n",
        "\n",
        "Independence of errors: The variation within each group should be due to random error, and these errors should be independent of each other.\n",
        "\n",
        "Violations of these assumptions can lead to invalid or unreliable ANOVA results. Examples of potential violations and their impacts include:\n",
        "\n",
        "Non-independence: If observations within a group are not independent, such as when repeated measures are used without accounting for it properly (e.g., analyzing pre-test and post-test data without using a paired test), the results might be biased and inflated.\n",
        "\n",
        "Non-normality: If the data within a group do not follow a normal distribution, the results might lead to inaccurate conclusions. Non-parametric tests like the Kruskal-Wallis test could be used as an alternative when this assumption is violated.\n",
        "\n",
        "Heterogeneity of variance: Unequal variances can lead to incorrect conclusions. If the group variances differ substantially, it may be necessary to apply a transformation to the data or use robust ANOVA methods.\n",
        "\n",
        "Unequal group sizes: While ANOVA can handle unequal group sizes, extremely unbalanced designs may reduce the power of the analysis and result in biased estimates.\n",
        "\n",
        "Correlated errors: When errors are correlated, it violates the assumption of independence of errors. This situation is often encountered in time series or clustered data. In such cases, specialized methods like repeated-measures ANOVA or mixed-effects models should be used to account for the correlations."
      ],
      "metadata": {
        "id": "WSFyd0Cao-fs"
      }
    },
    {
      "cell_type": "markdown",
      "source": [
        "#Q2. What are the three types of ANOVA, and in what situations would each be used?\n",
        "Ans -\n",
        "\n",
        "\n",
        "Situation: One-Way ANOVA is used when you have one categorical independent variable (also known as a factor) with more than two levels or groups, and you want to compare the means of the dependent variable across those groups.\n",
        "Example: Suppose you want to compare the average test scores of students from three different schools (School A, School B, and School C). One-Way ANOVA would be used to determine if there are significant differences in test scores between the three schools.\n",
        "Two-Way ANOVA:\n",
        "\n",
        "Situation: Two-Way ANOVA is used when you have two categorical independent variables (factors) and one dependent variable, and you want to investigate their combined effects on the dependent variable.\n",
        "Example: Consider a study that examines the effects of both gender and treatment type on patient recovery time. Gender (male/female) and treatment type (A/B) are the two independent variables, and the recovery time is the dependent variable. Two-Way ANOVA allows you to explore whether gender, treatment type, or their interaction significantly influence recovery time.\n",
        "Repeated-Measures ANOVA (also called Within-Subjects ANOVA):\n",
        "\n",
        "Situation: Repeated-Measures ANOVA is used when you have one group of participants and measure the same dependent variable at multiple time points or under different conditions. The same participants are measured in each condition.\n",
        "Example: Suppose you are testing the effectiveness of a new teaching method, and you measure the test scores of the same group of students before implementing the new method, after one month of implementation, and after three months of implementation. Repeated-Measures ANOVA would be used to determine if there are significant differences in test scores across the different time points."
      ],
      "metadata": {
        "id": "Xioilt7so-Dg"
      }
    },
    {
      "cell_type": "markdown",
      "source": [
        "#Q3. What is the partitioning of variance in ANOVA, and why is it important to understand this concept?\n",
        "Ans -\n",
        "Partitioning of variance in ANOVA refers to the process of decomposing the total variance in the data into different components to understand how much of the variation in the dependent variable can be attributed to different sources (factors) in the study. The total variance is the overall variability in the data, and by partitioning it, ANOVA helps to determine the relative contributions of each factor to the observed differences in means between groups or conditions.\n",
        "\n",
        "In ANOVA, the total variance is divided into two main components:\n",
        "\n",
        "Between-Group Variance (or Treatment Variance): This component represents the variation in the dependent variable between different groups or conditions (levels of the independent variable). It quantifies how much the group means differ from each other.\n",
        "\n",
        "Within-Group Variance (or Error Variance): This component represents the variation within each group or condition. It reflects the differences within the groups that are not accounted for by the independent variable(s).\n",
        "\n",
        "The significance of partitioning variance in ANOVA can be understood through the following points:\n",
        "\n",
        "Identifying Significant Effects: By partitioning the total variance into between-group and within-group components, ANOVA can determine whether the observed differences in means between groups are statistically significant. If the between-group variance is significantly larger than the within-group variance, it suggests that there are significant differences among the groups.\n",
        "\n",
        "F-ratio and Hypothesis Testing: The ratio of between-group variance to within-group variance (also known as the F-ratio) is used in hypothesis testing to assess whether the group means are significantly different. A larger F-ratio implies stronger evidence for rejecting the null hypothesis (i.e., no group differences).\n",
        "\n",
        "Assessing Effect Size: By comparing the size of the between-group variance to the total variance, ANOVA provides a measure of effect size. Effect size helps researchers understand the practical significance or strength of the relationship between the independent variable and the dependent variable.\n",
        "\n",
        "Interpretation of Results: Understanding the partitioning of variance allows researchers to interpret the results of ANOVA more effectively. They can distinguish whether the observed differences are primarily due to the effect of the independent variable(s) or if they are primarily due to random variability within the groups."
      ],
      "metadata": {
        "id": "fJDTbjC-sflo"
      }
    },
    {
      "cell_type": "markdown",
      "source": [
        "#Q4. How would you calculate the total sum of squares (SST), explained sum of squares (SSE), and residual\n",
        "Ans -\n",
        "sum of squares (SSR) in a one-way ANOVA using Python?\n",
        "Total Sum of Squares (SST):\n",
        "SST represents the total variability in the data. It is the sum of squared differences between each data point and the overall mean.\n",
        "\n",
        "Explained Sum of Squares (SSE):\n",
        "SSE represents the variability in the data explained by the independent variable (group means). It is the sum of squared differences between each group mean and the overall mean.\n",
        "\n",
        "Residual Sum of Squares (SSR):\n",
        "SSR represents the unexplained variability in the data, which is also known as the error. It is the sum of squared differences between each data point and its corresponding group mean."
      ],
      "metadata": {
        "id": "lwbIFfrYs2m6"
      }
    },
    {
      "cell_type": "code",
      "source": [
        "import numpy as np\n",
        "from scipy import stats\n",
        "\n",
        "# Sample data for three groups (replace with your own data)\n",
        "group1 = [10, 15, 20, 18, 12]\n",
        "group2 = [22, 25, 30, 28, 26]\n",
        "group3 = [35, 40, 38, 42, 37]\n",
        "\n",
        "# Combine the data from all groups\n",
        "data = np.concatenate([group1, group2, group3])\n",
        "\n",
        "# Calculate the overall mean\n",
        "overall_mean = np.mean(data)\n",
        "\n",
        "# Calculate the total sum of squares (SST)\n",
        "sst = np.sum((data - overall_mean) ** 2)\n",
        "\n",
        "# Calculate the group means\n",
        "group_means = [np.mean(group1), np.mean(group2), np.mean(group3)]\n",
        "\n",
        "# Calculate the explained sum of squares (SSE)\n",
        "sse = np.sum((group_means - overall_mean) ** 2) * len(group1)  # Since all groups have the same size\n",
        "\n",
        "# Calculate the residual sum of squares (SSR)\n",
        "ssr = sst - sse\n",
        "\n",
        "print(\"Total Sum of Squares (SST):\", sst)\n",
        "print(\"Explained Sum of Squares (SSE):\", sse)\n",
        "print(\"Residual Sum of Squares (SSR):\", ssr)\n"
      ],
      "metadata": {
        "colab": {
          "base_uri": "https://localhost:8080/"
        },
        "id": "OvhxAJOKsVla",
        "outputId": "42080741-d8cd-4097-d250-14564235a1c7"
      },
      "execution_count": 1,
      "outputs": [
        {
          "output_type": "stream",
          "name": "stdout",
          "text": [
            "Total Sum of Squares (SST): 1503.7333333333331\n",
            "Explained Sum of Squares (SSE): 1369.7333333333331\n",
            "Residual Sum of Squares (SSR): 134.0\n"
          ]
        }
      ]
    },
    {
      "cell_type": "markdown",
      "source": [
        "#Q5. In a two-way ANOVA, how would you calculate the main effects and interaction effects using Python?\n",
        "Ans -"
      ],
      "metadata": {
        "id": "MujpPL-dtQ_i"
      }
    },
    {
      "cell_type": "code",
      "source": [
        "import numpy as np\n",
        "import scipy.stats as stats\n",
        "\n",
        "# Create the data\n",
        "data = np.random.randint(0, 100, (20, 2))\n",
        "\n",
        "# Calculate the main effects\n",
        "A_mean = np.mean(data[:, 0])\n",
        "B_mean = np.mean(data[:, 1])\n",
        "\n",
        "# Calculate the interaction effect\n",
        "AB_mean = np.mean(data[data[:, 0] == 0, 1])\n",
        "\n",
        "# Calculate the F-statistics for the main effects and interaction effect\n",
        "F_A = stats.f_oneway(data[:, 0], data[:, 1])\n",
        "F_B = stats.f_oneway(data[:, 1], data[:, 0])\n",
        "F_AB = stats.f_oneway(data[data[:, 0] == 0, 1], data[data[:, 0] == 1, 1])\n",
        "\n",
        "# Print the results\n",
        "print(\"A mean:\", A_mean)\n",
        "print(\"B mean:\", B_mean)\n",
        "print(\"AB mean:\", AB_mean)\n",
        "print(\"F_A:\", F_A)\n",
        "print(\"F_B:\", F_B)\n",
        "print(\"F_AB:\", F_AB)\n"
      ],
      "metadata": {
        "colab": {
          "base_uri": "https://localhost:8080/"
        },
        "id": "ETlCztOWtHBL",
        "outputId": "62ed44d3-57fe-4d21-c18a-d55510af6795"
      },
      "execution_count": 5,
      "outputs": [
        {
          "output_type": "stream",
          "name": "stdout",
          "text": [
            "A mean: 55.95\n",
            "B mean: 46.8\n",
            "AB mean: 80.0\n",
            "F_A: F_onewayResult(statistic=1.1018350323732473, pvalue=0.30049397391266)\n",
            "F_B: F_onewayResult(statistic=1.1018350323732473, pvalue=0.30049397391266)\n",
            "F_AB: F_onewayResult(statistic=nan, pvalue=nan)\n"
          ]
        },
        {
          "output_type": "stream",
          "name": "stderr",
          "text": [
            "/usr/local/lib/python3.10/dist-packages/scipy/stats/_stats_py.py:3861: DegenerateDataWarning: at least one input has length 0\n",
            "  warnings.warn(stats.DegenerateDataWarning('at least one input '\n"
          ]
        }
      ]
    },
    {
      "cell_type": "markdown",
      "source": [
        "#Q6. Suppose you conducted a one-way ANOVA and obtained an F-statistic of 5.23 and a p-value of 0.02.What can you conclude about the differences between the groups, and how would you interpret these results?\n",
        "Ans -\n",
        "A one-way ANOVA, the F-statistic is used to test the null hypothesis that the means of all the groups are equal. The p-value associated with the F-statistic tells us the probability of observing such an extreme F-statistic under the assumption that the null hypothesis is true. A small p-value indicates strong evidence against the null hypothesis, suggesting that there are significant differences between the groups.\n",
        "\n",
        "In your case, you obtained an F-statistic of 5.23 and a p-value of 0.02. With a p-value of 0.02, this means that there is only a 2% chance of observing an F-statistic as extreme as 5.23 if the null hypothesis (equal means) were true.\n",
        "\n",
        "Based on this information:\n",
        "\n",
        "Conclusions: The small p-value (0.02) indicates that there are statistically significant differences between the groups' means. Therefore, we can reject the null hypothesis of equal means.\n",
        "\n",
        "Interpretation: Since the null hypothesis is rejected, we can conclude that there are significant differences in the outcome variable (dependent variable) across the different groups (levels of the independent variable). However, the ANOVA itself does not tell us which specific groups are different from each other. To determine that, additional post hoc tests like Tukey's test or Bonferroni correction can be conducted to perform pairwise comparisons between groups and identify which groups significantly differ from one another."
      ],
      "metadata": {
        "id": "FsrLolZ7uHB0"
      }
    },
    {
      "cell_type": "markdown",
      "source": [
        "#Q7. In a repeated measures ANOVA, how would you handle missing data, and what are the potentialconsequences of using different methods to handle missing data?\n",
        "Ans -\n",
        "Handling missing data in a repeated measures ANOVA is essential to ensure the validity and reliability of the results. Missing data can arise due to various reasons, such as participant dropout, technical issues, or incomplete responses. There are several methods to deal with missing data in a repeated measures ANOVA:\n",
        "\n",
        "Complete Case Analysis (Listwise Deletion):\n",
        "\n",
        "This method involves analyzing only the cases with complete data, i.e., removing any participant with missing data in any of the time points or conditions. This is the default behavior in many statistical software packages.\n",
        "Potential consequence: While this method is straightforward, it can lead to a loss of information and reduced power, especially if the amount of missing data is substantial. Additionally, it assumes that the missing data are missing completely at random (MCAR), which may not be a valid assumption in practice.\n",
        "Pairwise Deletion:\n",
        "\n",
        "In this approach, the analysis is performed using all available data for each time point or condition. If a participant has missing data in some time points, the available data for the other time points are still used in the analysis.\n",
        "Potential consequence: While this approach retains more information compared to complete case analysis, it can introduce bias in the results if the missing data are not missing completely at random. The inclusion of different subsets of data for different time points can lead to inconsistent and potentially biased estimates.\n",
        "Mean Imputation:\n",
        "\n",
        "Missing data are replaced with the mean value of the available data for the corresponding time point or condition.\n",
        "Potential consequence: Mean imputation can artificially reduce the variance and underestimate the standard errors, leading to inflated Type I error rates. It also fails to capture the uncertainty associated with the imputed values.\n",
        "Last Observation Carried Forward (LOCF):\n",
        "\n",
        "Missing data are imputed using the value of the last observed data point for the same participant in the previous time point or condition.\n",
        "Potential consequence: LOCF assumes that the missing values remain constant over time, which might not be appropriate, especially if there is significant variability between time points.\n",
        "Multiple Imputation:\n",
        "\n",
        "This method involves generating multiple plausible imputations for the missing values based on the observed data's underlying distribution.\n",
        "Potential consequence: Multiple imputation accounts for the uncertainty associated with the missing data and provides more accurate estimates and standard errors compared to single imputation methods like mean imputation. However, it requires more complex analyses and can be computationally intensive."
      ],
      "metadata": {
        "id": "Ccu6g7GzuTAz"
      }
    },
    {
      "cell_type": "markdown",
      "source": [
        "#Q8. What are some common post-hoc tests used after ANOVA, and when would you use each one? Provide an example of a situation where a post-hoc test might be necessary.\n",
        "Ans -\n",
        "Tukey's HSD test: This test is a multiple comparison test that is relatively conservative, meaning that it is less likely to find significant differences between groups than other post-hoc tests. It is a good choice when the number of groups is small and the data is normally distributed.\n",
        "Bonferroni test: This test is a more conservative multiple comparison test than Tukey's HSD test. It is a good choice when the number of groups is large or the data is not normally distributed.\n",
        "Sidak test: This test is a less conservative multiple comparison test than Tukey's HSD test. It is a good choice when the number of groups is small and the data is normally distributed.\n",
        "Fisher's LSD test: This test is a less conservative multiple comparison test than Bonferroni test. It is a good choice when the number of groups is large or the data is not normally distributed.\n",
        "The choice of which post-hoc test to use depends on a number of factors, including the number of groups, the distribution of the data, and the desired level of conservatism.\n",
        "\n",
        "Here is an example of a situation where a post-hoc test might be necessary:\n",
        "\n",
        "A researcher is interested in the effects of different learning styles on test performance. The researcher conducts an ANOVA and finds that there is a significant difference in test performance between the different learning styles. The researcher then uses a post-hoc test to determine which specific learning styles differ in terms of test performance.\n",
        "\n",
        "In this example, the post-hoc test would help the researcher to identify which learning styles are most effective for maximizing test performance. This information could then be used to develop more effective learning interventions."
      ],
      "metadata": {
        "id": "5LHcxdMiuwBo"
      }
    },
    {
      "cell_type": "markdown",
      "source": [
        "#Q9. A researcher wants to compare the mean weight loss of three diets: A, B, and C. They collect data from 50 participants who were randomly assigned to one of the diets. Conduct a one-way ANOVA using Python to determine if there are any significant differences between the mean weight loss of the three diets. Report the F-statistic and p-value, and interpret the results.\n",
        "Ans -\n"
      ],
      "metadata": {
        "id": "02KNvClhRdS5"
      }
    },
    {
      "cell_type": "code",
      "source": [
        "import numpy as np\n",
        "from scipy import stats\n",
        "\n",
        "# Sample data for weight loss for each diet (replace with your own data)\n",
        "diet_A = [2.5, 3.1, 2.8, 2.2, 3.0, 2.7, 2.9, 3.3, 2.6, 2.4, 2.8, 3.1, 2.5, 2.7, 3.0, 3.2, 2.9, 3.1, 3.3, 2.8]\n",
        "diet_B = [1.8, 1.5, 2.0, 1.7, 2.2, 1.9, 2.1, 1.6, 2.0, 1.8, 2.3, 1.9, 2.1, 1.5, 1.7, 1.8, 2.0, 1.6, 1.9, 2.2]\n",
        "diet_C = [0.9, 1.0, 1.2, 1.1, 0.8, 0.7, 1.0, 0.9, 1.3, 1.1, 1.2, 1.0, 1.0, 1.1, 0.8, 1.2, 1.0, 1.1, 0.9, 0.8]\n",
        "\n",
        "# Combine the data from all diets\n",
        "data = np.concatenate([diet_A, diet_B, diet_C])\n",
        "\n",
        "# Create a list to represent the groups (diet labels)\n",
        "groups = ['A'] * len(diet_A) + ['B'] * len(diet_B) + ['C'] * len(diet_C)\n",
        "\n",
        "# Perform one-way ANOVA\n",
        "f_statistic, p_value = stats.f_oneway(diet_A, diet_B, diet_C)\n",
        "\n",
        "print(\"F-Statistic:\", f_statistic)\n",
        "print(\"P-Value:\", p_value)\n"
      ],
      "metadata": {
        "colab": {
          "base_uri": "https://localhost:8080/"
        },
        "id": "vGPH2YWBtdj5",
        "outputId": "a68d7fc7-81cc-40bb-e1bb-757b393fc194"
      },
      "execution_count": 1,
      "outputs": [
        {
          "output_type": "stream",
          "name": "stdout",
          "text": [
            "F-Statistic: 293.42616226071\n",
            "P-Value: 9.818038916354663e-31\n"
          ]
        }
      ]
    },
    {
      "cell_type": "markdown",
      "source": [
        "#Q10. A company wants to know if there are any significant differences in the average time it takes to complete a task using three different software programs: Program A, Program B, and Program C. They randomly assign 30 employees to one of the programs and record the time it takes each employee to complete the task. Conduct a two-way ANOVA using Python to determine if there are any main effects or interaction effects between the software programs and employee experience level (novice vs. experienced). Report the F-statistics and p-values, and interpret the results."
      ],
      "metadata": {
        "id": "UrPYjPD1R9M0"
      }
    },
    {
      "cell_type": "code",
      "source": [
        "import pandas as pd\n",
        "import numpy as np\n",
        "import statsmodels.api as sm\n",
        "from statsmodels.formula.api import ols\n",
        "\n",
        "# Sample data (replace with your own data)\n",
        "data = {\n",
        "    'Software': np.repeat(['A', 'B', 'C'], 10),\n",
        "    'Experience': np.tile(['Novice', 'Experienced'], 15),\n",
        "    'Time': [12.3, 15.1, 14.2, 13.8, 12.9, 15.6, 14.7, 13.5, 14.1, 12.5,\n",
        "             17.9, 20.1, 19.5, 18.8, 18.6, 20.5, 19.4, 18.9, 19.2, 18.7,\n",
        "             10.4, 11.8, 10.9, 11.5, 11.2, 12.1, 11.7, 10.8, 12.5, 12.9]\n",
        "}\n",
        "\n",
        "df = pd.DataFrame(data)\n",
        "\n",
        "# Perform two-way ANOVA\n",
        "model = ols('Time ~ C(Software) + C(Experience) + C(Software):C(Experience)', data=df).fit()\n",
        "anova_table = sm.stats.anova_lm(model, typ=2)\n",
        "\n",
        "print(anova_table)\n"
      ],
      "metadata": {
        "colab": {
          "base_uri": "https://localhost:8080/"
        },
        "id": "w2z3RZ-JVh5q",
        "outputId": "5be12c2e-4975-4efe-ce42-2d8aaf71bb24"
      },
      "execution_count": 38,
      "outputs": [
        {
          "output_type": "stream",
          "name": "stdout",
          "text": [
            "                               sum_sq    df           F        PR(>F)\n",
            "C(Software)                302.282000   2.0  183.201212  2.913297e-15\n",
            "C(Experience)                1.680333   1.0    2.036768  1.664176e-01\n",
            "C(Software):C(Experience)    0.000667   2.0    0.000404  9.995960e-01\n",
            "Residual                    19.800000  24.0         NaN           NaN\n"
          ]
        }
      ]
    },
    {
      "cell_type": "markdown",
      "source": [
        "#Q11. An educational researcher is interested in whether a new teaching method improves student test scores. They randomly assign 100 students to either the control group (traditional teaching method) or the experimental group (new teaching method) and administer a test at the end of the semester. Conduct a two-sample t-test using Python to determine if there are any significant differences in test scores between the two groups. If the results are significant, follow up with a post-hoc test to determine which group(s) differ significantly from each other.\n",
        "Ans -"
      ],
      "metadata": {
        "id": "l2k3lMPRYIXV"
      }
    },
    {
      "cell_type": "code",
      "source": [
        "import numpy as np\n",
        "import pandas as pd\n",
        "from scipy.stats import ttest_ind\n",
        "from statsmodels.stats.multicomp import pairwise_tukeyhsd\n",
        "\n",
        "# Sample data (replace with your own data)\n",
        "control_group_scores = np.array([85, 88, 90, 78, 82, 80, 88, 79, 81, 86, 83, 84, 87, 79, 80, 85, 88, 81, 84, 86])\n",
        "experimental_group_scores = np.array([90, 92, 91, 85, 88, 89, 86, 92, 87, 90, 92, 88, 85, 90, 91, 93, 88, 89, 90, 91])\n",
        "\n",
        "# Perform two-sample t-test\n",
        "t_stat, p_value = ttest_ind(control_group_scores, experimental_group_scores)\n",
        "\n",
        "# Print t-statistic and p-value\n",
        "print(\"Two-Sample T-Test:\")\n",
        "print(\"T-Statistic:\", t_stat)\n",
        "print(\"P-Value:\", p_value)\n",
        "\n",
        "# Perform post-hoc Tukey's HSD test\n",
        "# Combine the two groups' scores and create a corresponding group label array\n",
        "all_scores = np.concatenate([control_group_scores, experimental_group_scores])\n",
        "group_labels = np.array(['Control'] * len(control_group_scores) + ['Experimental'] * len(experimental_group_scores))\n",
        "\n",
        "# Perform Tukey's HSD test\n",
        "tukey_result = pairwise_tukeyhsd(all_scores, group_labels)\n",
        "\n",
        "# Print post-hoc test results\n",
        "print(\"\\nPost-Hoc Tukey's HSD Test:\")\n",
        "print(tukey_result)\n"
      ],
      "metadata": {
        "colab": {
          "base_uri": "https://localhost:8080/"
        },
        "id": "UVOinqPzYSdP",
        "outputId": "d4569708-93a9-40ce-ea80-43fc010e7ed1"
      },
      "execution_count": 32,
      "outputs": [
        {
          "output_type": "stream",
          "name": "stdout",
          "text": [
            "Two-Sample T-Test:\n",
            "T-Statistic: -5.914690325269405\n",
            "P-Value: 7.453620691835759e-07\n",
            "\n",
            "Post-Hoc Tukey's HSD Test:\n",
            "  Multiple Comparison of Means - Tukey HSD, FWER=0.05   \n",
            "========================================================\n",
            " group1    group2    meandiff p-adj lower  upper  reject\n",
            "--------------------------------------------------------\n",
            "Control Experimental     5.65   0.0 3.7162 7.5838   True\n",
            "--------------------------------------------------------\n"
          ]
        }
      ]
    },
    {
      "cell_type": "markdown",
      "source": [
        "#Q12. A researcher wants to know if there are any significant differences in the average daily sales of three retail stores: Store A, Store B, and Store C. They randomly select 30 days and record the sales for each store on those days. Conduct a repeated measures ANOVA using Python to determine if there are any significant differences in sales between the three stores. If the results are significant, follow up with a post- hoc test to determine which store(s) differ significantly from each other.\n",
        "Ans -"
      ],
      "metadata": {
        "id": "VkzNEY6PYmJi"
      }
    },
    {
      "cell_type": "code",
      "source": [
        "import numpy as np\n",
        "import scipy.stats as stats\n",
        "\n",
        "# Create the data\n",
        "store_a_sales = np.random.randint(100, 200, 30)\n",
        "store_b_sales = np.random.randint(100, 200, 30)\n",
        "store_c_sales = np.random.randint(100, 200, 30)\n",
        "\n",
        "# Conduct the ANOVA\n",
        "model = stats.f_oneway(store_a_sales, store_b_sales, store_c_sales)\n",
        "\n",
        "# Print the results\n",
        "print(model)\n",
        "\n",
        "# If the results are significant, conduct a post-hoc test\n",
        "if model.pvalue < 0.05:\n",
        "    print(\"The results are significant.\")\n",
        "    print(\"Conducting a post-hoc test...\")\n",
        "    tukey_results = stats.posthoc_ttest(\n",
        "        [store_a_sales, store_b_sales, store_c_sales],\n",
        "        alpha=0.05,\n",
        "        paired=True,\n",
        "    )\n",
        "    print(tukey_results)\n"
      ],
      "metadata": {
        "colab": {
          "base_uri": "https://localhost:8080/"
        },
        "id": "E2QhNuz8YZC8",
        "outputId": "2663bb20-0e95-43da-b713-c73daf32df1a"
      },
      "execution_count": 35,
      "outputs": [
        {
          "output_type": "stream",
          "name": "stdout",
          "text": [
            "F_onewayResult(statistic=0.9777593188741139, pvalue=0.38024762392592326)\n"
          ]
        }
      ]
    },
    {
      "cell_type": "code",
      "source": [],
      "metadata": {
        "id": "sCFz4m_-Yufn"
      },
      "execution_count": null,
      "outputs": []
    }
  ]
}