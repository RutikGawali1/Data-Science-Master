{
  "nbformat": 4,
  "nbformat_minor": 0,
  "metadata": {
    "colab": {
      "provenance": []
    },
    "kernelspec": {
      "name": "python3",
      "display_name": "Python 3"
    },
    "language_info": {
      "name": "python"
    }
  },
  "cells": [
    {
      "cell_type": "code",
      "execution_count": 2,
      "metadata": {
        "colab": {
          "base_uri": "https://localhost:8080/"
        },
        "id": "MBxLXt22k-w2",
        "outputId": "d3c16175-5e8e-4867-c44d-16315f2a6ec0"
      },
      "outputs": [
        {
          "output_type": "stream",
          "name": "stdout",
          "text": [
            "              precision    recall  f1-score   support\n",
            "\n",
            "           0       1.00      1.00      1.00        10\n",
            "           1       1.00      1.00      1.00         9\n",
            "           2       1.00      1.00      1.00        11\n",
            "\n",
            "    accuracy                           1.00        30\n",
            "   macro avg       1.00      1.00      1.00        30\n",
            "weighted avg       1.00      1.00      1.00        30\n",
            "\n",
            "AUC Score: 1.00\n"
          ]
        },
        {
          "output_type": "stream",
          "name": "stderr",
          "text": [
            "/usr/local/lib/python3.11/dist-packages/sklearn/linear_model/_logistic.py:1247: FutureWarning: 'multi_class' was deprecated in version 1.5 and will be removed in 1.7. From then on, it will always use 'multinomial'. Leave it to its default value to avoid this warning.\n",
            "  warnings.warn(\n"
          ]
        }
      ],
      "source": [
        "### Q1. Concept of Precision and Recall in Classification Models\n",
        "\n",
        "# - Precision: Proportion of true positives among all predicted positives. \\( \\text{Precision} = \\frac{TP}{TP + FP} \\).\n",
        "# - Recall: Proportion of true positives among all actual positives. \\( \\text{Recall} = \\frac{TP}{TP + FN} \\).\n",
        "# - Precision focuses on minimizing false positives, while recall focuses on minimizing false negatives.\n",
        "\n",
        "### Q2. F1 Score\n",
        "\n",
        "# - F1 Score is the harmonic mean of precision and recall. It balances the two metrics.\n",
        "# - Formula: \\( F1 = 2 \\cdot \\frac{\\text{Precision} \\cdot \\text{Recall}}{\\text{Precision} + \\text{Recall}} \\).\n",
        "# - Unlike precision and recall, F1 gives a single measure of a model’s performance, especially useful when there is class imbalance.\n",
        "\n",
        "### Q3. ROC and AUC\n",
        "\n",
        "# - ROC (Receiver Operating Characteristic): A curve plotting True Positive Rate (TPR) vs. False Positive Rate (FPR) at different thresholds.\n",
        "# - AUC (Area Under the Curve): Represents the area under the ROC curve, measuring the model’s ability to distinguish between classes.\n",
        "# - Higher AUC indicates better model performance.\n",
        "\n",
        "### Q4. Choosing the Best Metric\n",
        "\n",
        "# - Metrics depend on the problem:\n",
        "#   - Precision: Critical in scenarios where false positives are costly (e.g., spam detection).\n",
        "#   - Recall: Important in scenarios where false negatives are costly (e.g., medical diagnosis).\n",
        "#   - F1 Score: Balances precision and recall, suitable for imbalanced datasets.\n",
        "#   - AUC-ROC: Useful for comparing models and evaluating binary classification.\n",
        "\n",
        "### Q5. Multiclass vs. Binary Classification\n",
        "\n",
        "# - Binary Classification: Two possible classes (e.g., spam vs. not spam).\n",
        "# - Multiclass Classification: More than two classes (e.g., digit recognition).\n",
        "# - Multiclass classification typically uses strategies like one-vs-rest (OvR) or softmax for predictions.\n",
        "\n",
        "### Q6. Logistic Regression for Multiclass Classification\n",
        "\n",
        "# - Logistic regression uses the Softmax function for multiclass problems.\n",
        "# - Softmax assigns probabilities to each class, ensuring they sum to 1.\n",
        "# - Example: Predicting a digit (0-9) using one logistic regression model.\n",
        "\n",
        "### Q7. Steps in an End-to-End Multiclass Classification Project\n",
        "\n",
        "# 1. Define the problem and objectives.\n",
        "# 2. Collect and preprocess the data.\n",
        "# 3. Perform exploratory data analysis (EDA).\n",
        "# 4. Split the data into training, validation, and testing sets.\n",
        "# 5. Train the model using algorithms like logistic regression, SVM, or deep learning.\n",
        "# 6. Evaluate performance using metrics like accuracy, precision, recall, and AUC.\n",
        "# 7. Optimize the model with hyperparameter tuning.\n",
        "# 8. Deploy the model to a production environment.\n",
        "# 9. Monitor and maintain the model post-deployment.\n",
        "\n",
        "### Q8. Model Deployment\n",
        "\n",
        "# - Model deployment refers to integrating a trained model into a production environment where it can make real-world predictions.\n",
        "# - Importance:\n",
        "#   - Enables real-time or batch predictions.\n",
        "#   - Bridges the gap between development and application.\n",
        "# - Tools: Flask, FastAPI, Docker, Kubernetes, etc.\n",
        "\n",
        "### Q9. Multi-Cloud Platforms for Model Deployment\n",
        "\n",
        "# - Multi-cloud platforms involve deploying models across multiple cloud providers (e.g., AWS, Azure, GCP).\n",
        "# - Benefits:\n",
        "#   - Avoid vendor lock-in.\n",
        "#   - Improved reliability and availability.\n",
        "#   - Cost optimization by leveraging the best features of each provider.\n",
        "# - Challenges:\n",
        "#   - Increased complexity in managing multiple environments.\n",
        "#   - Data transfer and latency issues.\n",
        "#   - Requires expertise in multi-cloud management tools.\n",
        "\n",
        "### Example Code:\n",
        "import numpy as np\n",
        "from sklearn.datasets import load_iris\n",
        "from sklearn.linear_model import LogisticRegression\n",
        "from sklearn.model_selection import train_test_split\n",
        "from sklearn.metrics import classification_report, roc_auc_score\n",
        "\n",
        "# Load Data\n",
        "X, y = load_iris(return_X_y=True)\n",
        "\n",
        "# Split Data\n",
        "X_train, X_test, y_train, y_test = train_test_split(X, y, test_size=0.2, random_state=42)\n",
        "\n",
        "# Logistic Regression for Multiclass\n",
        "model = LogisticRegression(multi_class='multinomial', solver='lbfgs', max_iter=200)\n",
        "model.fit(X_train, y_train)\n",
        "\n",
        "# Predictions\n",
        "y_pred = model.predict(X_test)\n",
        "probs = model.predict_proba(X_test)\n",
        "\n",
        "# Metrics\n",
        "print(classification_report(y_test, y_pred))\n",
        "\n",
        "# AUC for Multiclass (requires binarized labels)\n",
        "from sklearn.preprocessing import label_binarize\n",
        "y_test_binarized = label_binarize(y_test, classes=[0, 1, 2])\n",
        "auc_score = roc_auc_score(y_test_binarized, probs, multi_class='ovr')\n",
        "print(f\"AUC Score: {auc_score:.2f}\")"
      ]
    },
    {
      "cell_type": "code",
      "source": [],
      "metadata": {
        "id": "NlxTkDUhlUbc"
      },
      "execution_count": null,
      "outputs": []
    }
  ]
}