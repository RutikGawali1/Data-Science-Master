{
 "cells": [
  {
   "cell_type": "markdown",
   "id": "70672a84-b86b-4a5a-a94a-68936c3fdb02",
   "metadata": {},
   "source": [
    "Q1. Create one variable containing following type of data:\n",
    "(i) string\n",
    "(ii) list\n",
    "(iii) float\n",
    "(iv) tuple"
   ]
  },
  {
   "cell_type": "code",
   "execution_count": null,
   "id": "694b7e8c-c45e-4488-86ff-dcd7ed0e0ccf",
   "metadata": {},
   "outputs": [],
   "source": [
    "a = \"rutik\""
   ]
  },
  {
   "cell_type": "code",
   "execution_count": 2,
   "id": "43b16734-8c11-4a2d-ac28-c37a56c3bae5",
   "metadata": {},
   "outputs": [
    {
     "data": {
      "text/plain": [
       "str"
      ]
     },
     "execution_count": 2,
     "metadata": {},
     "output_type": "execute_result"
    }
   ],
   "source": [
    "type(a)"
   ]
  },
  {
   "cell_type": "code",
   "execution_count": 3,
   "id": "da82d684-e17a-49df-b1f8-80e625869822",
   "metadata": {},
   "outputs": [],
   "source": [
    "b = 4.55\n"
   ]
  },
  {
   "cell_type": "code",
   "execution_count": 4,
   "id": "b0de722e-c23a-4e1c-af60-0f309de12a91",
   "metadata": {},
   "outputs": [
    {
     "data": {
      "text/plain": [
       "float"
      ]
     },
     "execution_count": 4,
     "metadata": {},
     "output_type": "execute_result"
    }
   ],
   "source": [
    "type(b)"
   ]
  },
  {
   "cell_type": "code",
   "execution_count": 17,
   "id": "d9a628d9-3d30-4eed-aeb3-818d3275e191",
   "metadata": {},
   "outputs": [],
   "source": [
    "c = [\"rutik\",1,2,3,\"pwskills\"]"
   ]
  },
  {
   "cell_type": "code",
   "execution_count": 18,
   "id": "413efc64-48a7-475b-a1a5-e90c33b5f571",
   "metadata": {},
   "outputs": [
    {
     "data": {
      "text/plain": [
       "list"
      ]
     },
     "execution_count": 18,
     "metadata": {},
     "output_type": "execute_result"
    }
   ],
   "source": [
    "type(c)"
   ]
  },
  {
   "cell_type": "code",
   "execution_count": 7,
   "id": "d452b49e-30ba-4704-8066-ad3ba5ca8101",
   "metadata": {},
   "outputs": [],
   "source": [
    "d = (\"apple\",\"banna\",\"mango\")"
   ]
  },
  {
   "cell_type": "code",
   "execution_count": 8,
   "id": "1e320fc0-6806-449f-9cc1-83d7a8c9e766",
   "metadata": {},
   "outputs": [
    {
     "data": {
      "text/plain": [
       "tuple"
      ]
     },
     "execution_count": 8,
     "metadata": {},
     "output_type": "execute_result"
    }
   ],
   "source": [
    "type(d)"
   ]
  },
  {
   "cell_type": "markdown",
   "id": "5a2c23d3-7b81-4870-8e65-a6d1f4304747",
   "metadata": {},
   "source": [
    "Given are some following variables containing data:\n",
    "(i) var1 = ‘ ‘\n",
    "(ii) var2 = ‘[ DS , ML , Python]’\n",
    "(iii) var3 = [ ‘DS’ , ’ML’ , ‘Python’ ]\n",
    "(iv) var4 = 1."
   ]
  },
  {
   "cell_type": "markdown",
   "id": "69376906-fd94-44eb-b102-79971c551d63",
   "metadata": {},
   "source": [
    "1. var1 = ‘ ‘"
   ]
  },
  {
   "cell_type": "markdown",
   "id": "3d2efa08-b18e-4adc-9f73-81d45f484212",
   "metadata": {},
   "source": [
    "String"
   ]
  },
  {
   "cell_type": "markdown",
   "id": "245ea6ee-90b7-47c6-b8bc-62c90e03024a",
   "metadata": {},
   "source": [
    "2) var2 = ‘[ DS , ML , Python]’\n",
    "\n",
    "String"
   ]
  },
  {
   "cell_type": "markdown",
   "id": "a2daa9b5-aea0-40e1-90ef-6e476a558e03",
   "metadata": {},
   "source": [
    "3) var3 = [ ‘DS’ , ’ML’ , ‘Python’ ]\n",
    "\n",
    "\n",
    "List\n"
   ]
  },
  {
   "cell_type": "markdown",
   "id": "f89ea3a5-8383-4078-93b4-5ea0f24cd587",
   "metadata": {},
   "source": [
    "4) var4 = 1.\n",
    "\n",
    "Float"
   ]
  },
  {
   "cell_type": "markdown",
   "id": "1b2b46a1-d4c8-4f25-81e1-46ed5285206c",
   "metadata": {},
   "source": [
    "Q3. Explain the use of the following operators using an example:\n",
    "(i) /\n",
    "(ii) %\n",
    "(iii) //\n",
    "(iv) **"
   ]
  },
  {
   "cell_type": "markdown",
   "id": "97e7f659-01a2-47b9-a2e6-83642dc5860e",
   "metadata": {},
   "source": [
    "/ - divided "
   ]
  },
  {
   "cell_type": "code",
   "execution_count": 21,
   "id": "d11c6019-a6c4-4709-947c-5ec6b6a83949",
   "metadata": {},
   "outputs": [
    {
     "data": {
      "text/plain": [
       "0.5"
      ]
     },
     "execution_count": 21,
     "metadata": {},
     "output_type": "execute_result"
    }
   ],
   "source": [
    "2/4"
   ]
  },
  {
   "cell_type": "markdown",
   "id": "817fdbad-3d24-4a30-91d8-4f3ff0e69a14",
   "metadata": {},
   "source": [
    "% - Modulas "
   ]
  },
  {
   "cell_type": "code",
   "execution_count": 25,
   "id": "6e97e3ce-51ad-4d3c-b95b-335d930ae459",
   "metadata": {},
   "outputs": [
    {
     "data": {
      "text/plain": [
       "1"
      ]
     },
     "execution_count": 25,
     "metadata": {},
     "output_type": "execute_result"
    }
   ],
   "source": [
    "5%4"
   ]
  },
  {
   "cell_type": "markdown",
   "id": "d389e627-6093-4f1e-8a85-71ff1bad2e97",
   "metadata": {},
   "source": [
    " // - floor division "
   ]
  },
  {
   "cell_type": "code",
   "execution_count": 27,
   "id": "319d6f98-fc17-4778-8af8-afc227dd11cd",
   "metadata": {},
   "outputs": [
    {
     "data": {
      "text/plain": [
       "3"
      ]
     },
     "execution_count": 27,
     "metadata": {},
     "output_type": "execute_result"
    }
   ],
   "source": [
    "10//3\n"
   ]
  },
  {
   "cell_type": "markdown",
   "id": "49665aec-d58d-4804-8da9-27e1d2a0df31",
   "metadata": {},
   "source": [
    "** - exponentiation"
   ]
  },
  {
   "cell_type": "code",
   "execution_count": 28,
   "id": "307b5c70-3c4b-40bd-b61d-ee1c5fbbb747",
   "metadata": {},
   "outputs": [
    {
     "data": {
      "text/plain": [
       "8"
      ]
     },
     "execution_count": 28,
     "metadata": {},
     "output_type": "execute_result"
    }
   ],
   "source": [
    "2**3\n"
   ]
  },
  {
   "cell_type": "markdown",
   "id": "bb2896f3-e33c-4edd-8c5a-33c05f1572de",
   "metadata": {},
   "source": [
    "Q4. Create a list of length 10 of your choice containing multiple types of data. Using for loop print the\n",
    "element and its data type."
   ]
  },
  {
   "cell_type": "code",
   "execution_count": 36,
   "id": "3d7bdbc4-dd98-491c-9a0f-575f0c609b93",
   "metadata": {},
   "outputs": [
    {
     "name": "stdout",
     "output_type": "stream",
     "text": [
      "10 <class 'int'>\n",
      "Hello <class 'str'>\n",
      "3.14 <class 'float'>\n",
      "True <class 'bool'>\n",
      "[1, 2, 3] <class 'list'>\n",
      "{'name': 'John', 'age': 25} <class 'dict'>\n",
      "(4, 5, 6) <class 'tuple'>\n",
      "None <class 'NoneType'>\n",
      "(5+2j) <class 'complex'>\n",
      "False <class 'bool'>\n"
     ]
    }
   ],
   "source": [
    "my_list = [10, \"Hello\", 3.14, True, [1, 2, 3], {\"name\": \"John\", \"age\": 25}, (4, 5, 6), None, 5+2j, False]\n",
    "\n",
    "for element in my_list:\n",
    "    print(element, type(element)) "
   ]
  },
  {
   "cell_type": "markdown",
   "id": "856cd1ba-b7de-4c47-befb-d05e8d531d8a",
   "metadata": {},
   "source": [
    "Q5. Using a while loop, verify if the number A is purely divisible by number B and if so then how many\n",
    "times it can be divisible."
   ]
  },
  {
   "cell_type": "code",
   "execution_count": 46,
   "id": "d7f304c4-f8bf-4ea9-b847-83bc25a61632",
   "metadata": {},
   "outputs": [
    {
     "name": "stdout",
     "output_type": "stream",
     "text": [
      "2.0 is not divisible by 5.\n"
     ]
    }
   ],
   "source": [
    "a = 24\n",
    "b = 3\n",
    "count = 0\n",
    "while A % B == 0:\n",
    "    A /= B\n",
    "    count += 1\n",
    "if count > 0:\n",
    "    print(f\"{A} is divisible by {B} and can be divided {count} times.\")\n",
    "else:\n",
    "    print(f\"{A} is not divisible by {B}.\")"
   ]
  },
  {
   "cell_type": "markdown",
   "id": "efab0697-47fa-492d-85a7-a82fbea02977",
   "metadata": {},
   "source": [
    "Q6. Create a list containing 25 int type data. Using for loop and if-else condition print if the element is\n",
    "divisible by 3 or not."
   ]
  },
  {
   "cell_type": "code",
   "execution_count": 9,
   "id": "e28f4413-24d8-450d-a12a-e0de857b5390",
   "metadata": {},
   "outputs": [
    {
     "name": "stdout",
     "output_type": "stream",
     "text": [
      "1 is not divisible by 3.\n",
      "2 is not divisible by 3.\n",
      "3 is divisible by 3.\n",
      "5 is not divisible by 3.\n",
      "18 is divisible by 3.\n",
      "4 is not divisible by 3.\n",
      "8 is not divisible by 3.\n",
      "9 is divisible by 3.\n",
      "7 is not divisible by 3.\n",
      "5 is not divisible by 3.\n"
     ]
    }
   ],
   "source": [
    "a = [1,2,3,5,18,4,8,9,7,5]\n",
    "for i in a :\n",
    "    if i % 3 == 0:\n",
    "        print(f\"{i} is divisible by 3.\")\n",
    "    else:\n",
    "        print(f\"{i} is not divisible by 3.\")\n",
    "    "
   ]
  },
  {
   "cell_type": "markdown",
   "id": "e6bc747e-2e78-4499-a97d-c06911fe82fd",
   "metadata": {},
   "source": [
    "Q7. What do you understand about mutable and immutable data types? Give examples for both showing\n",
    "this property."
   ]
  },
  {
   "cell_type": "code",
   "execution_count": 11,
   "id": "173be424-bdf9-475a-8aa5-a9f9cb35f94b",
   "metadata": {},
   "outputs": [
    {
     "name": "stdout",
     "output_type": "stream",
     "text": [
      "Hello\n",
      "Hello World\n"
     ]
    }
   ],
   "source": [
    "a = \"Hello\"\n",
    "print(a)  \n",
    "\n",
    "a += \" World\"\n",
    "print(a)  \n"
   ]
  },
  {
   "cell_type": "code",
   "execution_count": 12,
   "id": "47c4010d-6a0b-4f25-b976-3f15e34f52e3",
   "metadata": {},
   "outputs": [
    {
     "name": "stdout",
     "output_type": "stream",
     "text": [
      "[1, 2, 3]\n",
      "[1, 2, 3, 4]\n"
     ]
    }
   ],
   "source": [
    "int = [1, 2, 3]\n",
    "print(int)  # Output: [1, 2, 3]\n",
    "\n",
    "int.append(4)\n",
    "print(int)  # Output: [1, 2, 3, 4]"
   ]
  },
  {
   "cell_type": "code",
   "execution_count": null,
   "id": "965ec9af-7b70-4a95-841e-539bf1f1627b",
   "metadata": {},
   "outputs": [],
   "source": []
  }
 ],
 "metadata": {
  "kernelspec": {
   "display_name": "Python 3 (ipykernel)",
   "language": "python",
   "name": "python3"
  },
  "language_info": {
   "codemirror_mode": {
    "name": "ipython",
    "version": 3
   },
   "file_extension": ".py",
   "mimetype": "text/x-python",
   "name": "python",
   "nbconvert_exporter": "python",
   "pygments_lexer": "ipython3",
   "version": "3.10.8"
  }
 },
 "nbformat": 4,
 "nbformat_minor": 5
}
