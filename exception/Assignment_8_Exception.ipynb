{
 "cells": [
  {
   "cell_type": "markdown",
   "metadata": {
    "id": "Glfrw3naxspc"
   },
   "source": [
    "Q1. What is an Exception in pyhton? Writeb the difference between Exceptions and syntax errors.\n",
    "\n",
    "Ans:- 1)An exception is an error that occurs during the execution of a program. When that error occurs, Python generates an exception that can be handled, which avoids your program to crash.\n",
    "\n",
    "2)Syntax errors are errors where the code is not valid Python (generally easy to fix) and exceptions are errors that occur at runtime and are generally harder to fix because they involve logic errors.\n"
   ]
  },
  {
   "cell_type": "markdown",
   "metadata": {
    "id": "9tkEMGzCx9lE"
   },
   "source": [
    "Q2.What happens when an exception is not handled? Explain with an example.\n",
    "\n",
    "Ans:- When an exception is not handled, the operating system will usually display a message and terminate the program. In some cases, the operating system may be able to recover from the error and continue running the program.\n"
   ]
  },
  {
   "cell_type": "code",
   "execution_count": 9,
   "metadata": {
    "colab": {
     "base_uri": "https://localhost:8080/"
    },
    "id": "EbRdm7C0x-OM",
    "outputId": "90dd15a7-f0f8-44da-d8b7-7474d79c6885"
   },
   "outputs": [
    {
     "name": "stdout",
     "output_type": "stream",
     "text": [
      "this is my except block [Errno 2] No such file or directory: 'test.txt'\n"
     ]
    }
   ],
   "source": [
    "try :\n",
    "    f = open(\"test.txt\", 'r')\n",
    "except Exception as e:\n",
    "    print(\"this is my except block\" , e)"
   ]
  },
  {
   "cell_type": "markdown",
   "metadata": {
    "id": "J1umVpUFyDra"
   },
   "source": [
    "when exception not handled then get error.\n"
   ]
  },
  {
   "cell_type": "code",
   "execution_count": null,
   "metadata": {
    "colab": {
     "base_uri": "https://localhost:8080/",
     "height": 171
    },
    "id": "AxJjbmsyyBGK",
    "outputId": "4cf7d876-7094-4582-e723-bf354cc641ec"
   },
   "outputs": [
    {
     "ename": "FileNotFoundError",
     "evalue": "ignored",
     "output_type": "error",
     "traceback": [
      "\u001b[0;31m---------------------------------------------------------------------------\u001b[0m",
      "\u001b[0;31mFileNotFoundError\u001b[0m                         Traceback (most recent call last)",
      "\u001b[0;32m<ipython-input-3-19c3c3a9cf71>\u001b[0m in \u001b[0;36m<cell line: 1>\u001b[0;34m()\u001b[0m\n\u001b[0;32m----> 1\u001b[0;31m \u001b[0mf\u001b[0m \u001b[0;34m=\u001b[0m \u001b[0mopen\u001b[0m\u001b[0;34m(\u001b[0m\u001b[0;34m\"test.txt\"\u001b[0m \u001b[0;34m,\u001b[0m \u001b[0;34m'r'\u001b[0m\u001b[0;34m)\u001b[0m\u001b[0;34m\u001b[0m\u001b[0;34m\u001b[0m\u001b[0m\n\u001b[0m",
      "\u001b[0;31mFileNotFoundError\u001b[0m: [Errno 2] No such file or directory: 'test.txt'"
     ]
    }
   ],
   "source": [
    "f = open(\"test.txt\" , 'r')"
   ]
  },
  {
   "cell_type": "markdown",
   "metadata": {
    "id": "8A97cbNtzNG2"
   },
   "source": [
    "Q3.Which Python statements are used to catch and handle exception?Explain with an example.\n",
    "\n",
    "Ans:-The try and except statements are used to catch and handle exceptions.\n",
    "\n",
    " The try block contains the code that may raise an exception, while the except block defines the actions to be taken when a specific exception occurs.\n"
   ]
  },
  {
   "cell_type": "code",
   "execution_count": 10,
   "metadata": {
    "colab": {
     "base_uri": "https://localhost:8080/"
    },
    "id": "mtXFqq1Cyj5D",
    "outputId": "8362cf48-0bad-48d5-9ce1-4e23087b872b"
   },
   "outputs": [
    {
     "name": "stdout",
     "output_type": "stream",
     "text": [
      "this will catch an error\n"
     ]
    }
   ],
   "source": [
    "try :\n",
    "  int(\"rutik\")\n",
    "except:\n",
    "  print(\"this will catch an error\")"
   ]
  },
  {
   "cell_type": "markdown",
   "metadata": {
    "id": "TAGf5izN4Gpu"
   },
   "source": [
    "Q4.example with an example:\n",
    "\n",
    "a.try and else\n",
    "\n",
    "b.finally\n",
    "\n",
    "c.raise"
   ]
  },
  {
   "cell_type": "markdown",
   "metadata": {},
   "source": [
    "Try - try is a keyword used to define a block of code that might potentially raise an exception. "
   ]
  },
  {
   "cell_type": "markdown",
   "metadata": {},
   "source": [
    "Else - The else clause is an optional part of the try-except statement in Python."
   ]
  },
  {
   "cell_type": "code",
   "execution_count": 11,
   "metadata": {},
   "outputs": [],
   "source": [
    "import logging\n",
    "try:\n",
    "    with open(\"test.txt\", 'w') as f:\n",
    "        f.write(\"this is my data to file\")\n",
    "    \n",
    "    result = 10 / 2  # Division operation\n",
    "\n",
    "except FileNotFoundError as e:\n",
    "    logging.error(\"I am handling file not found: {}\".format(e))\n",
    "except ZeroDivisionError as e:\n",
    "    logging.error(\"I am handling a ZeroDivisionError: {}\".format(e))\n",
    "else:\n",
    "    logging.info(\"File write operation successful!\")\n",
    "    logging.info(\"Division result: {}\".format(result))\n",
    "    f.close()\n"
   ]
  },
  {
   "cell_type": "markdown",
   "metadata": {},
   "source": [
    "Using Finally - After executing the finally block (if applicable), the program continues execution after the try-except-finally statement."
   ]
  },
  {
   "cell_type": "code",
   "execution_count": 14,
   "metadata": {},
   "outputs": [],
   "source": [
    "#Document all the error\n",
    "#cleanup all the resources\n",
    "try:\n",
    "    with open(\"test.txt\" , 'w') as f:\n",
    "        f.write(\"this is my data to file\")\n",
    "        \n",
    "except FileNotFoundError as e:\n",
    "    logging.error(\"i am handling file not found {}\".format(e))\n",
    "    \n",
    "finally :\n",
    "    f.close()"
   ]
  },
  {
   "cell_type": "markdown",
   "metadata": {},
   "source": [
    "Using  raise - The raise keyword is used to raise exceptions in Python. Exceptions are used to handle error conditions or exceptional situations that may occur during the execution of a program. "
   ]
  },
  {
   "cell_type": "code",
   "execution_count": 13,
   "metadata": {},
   "outputs": [
    {
     "name": "stdin",
     "output_type": "stream",
     "text": [
      "enter your age 23\n"
     ]
    },
    {
     "name": "stdout",
     "output_type": "stream",
     "text": [
      "age is valid\n"
     ]
    }
   ],
   "source": [
    "def validaetage(age) : \n",
    "    if age < 0 :\n",
    "        raise validateage(\"entered age is negative \")\n",
    "    elif age > 150 : \n",
    "        raise validateage(\"enterd age is very very high \")\n",
    "    else :\n",
    "        print(\"age is valid\" )\n",
    "try : \n",
    "    age = int(input(\"enter your age\"))\n",
    "    validaetage(age)\n",
    "except validateage as e:\n",
    "    print(e)         "
   ]
  },
  {
   "cell_type": "markdown",
   "metadata": {},
   "source": [
    "Q5. What are Custom Exceptions in pyhton?Why do we need Custom Excetions? Explain with an example."
   ]
  },
  {
   "cell_type": "markdown",
   "metadata": {},
   "source": [
    "Ans - custom exceptions refer to user-defined exception classes that are created to represent specific types of errors or exceptional conditions in a program. \n",
    "\n",
    "-users can define custom exceptions by creating a new class that is derived from the built-in Exception class. Most of the built-in exceptions are also derived from this class. Custom exceptions can be used to define application-specific error codes or to provide additional information about an error."
   ]
  },
  {
   "cell_type": "code",
   "execution_count": 2,
   "metadata": {},
   "outputs": [
    {
     "name": "stdin",
     "output_type": "stream",
     "text": [
      "Enter email address:  rutikgawali@gmail.com\n"
     ]
    },
    {
     "name": "stdout",
     "output_type": "stream",
     "text": [
      "Email validation successful.\n"
     ]
    }
   ],
   "source": [
    "class InvalidEmailException(Exception):\n",
    "    pass\n",
    "\n",
    "def validate_email(email):\n",
    "    if \"@\" not in email:\n",
    "        raise InvalidEmailException(\"Invalid email address.\")\n",
    "\n",
    "try:\n",
    "    email = input(\"Enter email address: \")\n",
    "    validate_email(email)\n",
    "    print(\"Email validation successful.\")\n",
    "except InvalidEmailException as e:\n",
    "    print(\"Email validation error:\", e)\n"
   ]
  },
  {
   "cell_type": "markdown",
   "metadata": {},
   "source": [
    "\n",
    "\n",
    "\n",
    "\n",
    "Q6.Create a custom exception class.Use this class to handle an exception"
   ]
  },
  {
   "cell_type": "code",
   "execution_count": 4,
   "metadata": {},
   "outputs": [
    {
     "name": "stdout",
     "output_type": "stream",
     "text": [
      "Custom exception occurred: Cannot divide by zero.\n"
     ]
    }
   ],
   "source": [
    "   class CustomException(Exception):\n",
    "    def __init__(self, message):\n",
    "        super().__init__(message)\n",
    "\n",
    "def divide_numbers(a, b):\n",
    "    if b == 0:\n",
    "        raise CustomException(\"Cannot divide by zero.\")\n",
    "    return a / b\n",
    "\n",
    "try:\n",
    "    result = divide_numbers(10, 0)\n",
    "    print(\"Result:\", result)\n",
    "except CustomException as e:\n",
    "    print(\"Custom exception occurred:\", e)"
   ]
  },
  {
   "cell_type": "code",
   "execution_count": null,
   "metadata": {},
   "outputs": [],
   "source": []
  }
 ],
 "metadata": {
  "colab": {
   "provenance": []
  },
  "kernelspec": {
   "display_name": "Python 3 (ipykernel)",
   "language": "python",
   "name": "python3"
  },
  "language_info": {
   "codemirror_mode": {
    "name": "ipython",
    "version": 3
   },
   "file_extension": ".py",
   "mimetype": "text/x-python",
   "name": "python",
   "nbconvert_exporter": "python",
   "pygments_lexer": "ipython3",
   "version": "3.10.8"
  }
 },
 "nbformat": 4,
 "nbformat_minor": 4
}
