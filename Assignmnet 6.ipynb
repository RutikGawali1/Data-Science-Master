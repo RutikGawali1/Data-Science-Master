{
 "cells": [
  {
   "cell_type": "markdown",
   "id": "ff7bd1db-9309-4a7f-b5a7-e1e645cc4522",
   "metadata": {},
   "source": [
    "Q1. Explain Class and Object with respect to Object-Oriented Programming. Give a suitable example.\n",
    "\n",
    "Ans:- Class is blueprint of object and An object is instnace of a class which allocated memory when object are created.\n",
    "\n",
    "Example :- Car is class there is attributes color,model,year etc.car1 is object you specify the model, color, year, etc.\n"
   ]
  },
  {
   "cell_type": "markdown",
   "id": "c57442b1-a174-448f-aa15-835381bb1fd7",
   "metadata": {},
   "source": [
    "Q2. Name the four pillars of OOPs.\n",
    "\n",
    "Ans:- there are \n",
    "1)Abstraction \n",
    "2)inheritance\n",
    "3)Polymorphism\n",
    "4)Encapsulation"
   ]
  },
  {
   "cell_type": "markdown",
   "id": "dfe0e762-0918-4a43-ba23-cff5d6a1c594",
   "metadata": {},
   "source": [
    "Q3. Explain why the __init__() function is used. Give a suitable example.\n",
    "\n",
    "Ans:- The __init__() function is used to initialize the attributes of an object. It is automatically called when an object is created. \n"
   ]
  },
  {
   "cell_type": "code",
   "execution_count": 6,
   "id": "0d7ca4c4-e8e4-43b7-82c0-17005f24349d",
   "metadata": {},
   "outputs": [],
   "source": [
    "class person:\n",
    "    def __init__(self,name, age):\n",
    "        self.name = name\n",
    "        self.age = age\n",
    "    def return_person_details(self): \n",
    "        return self.name, self.age\n",
    "    \n",
    "  "
   ]
  },
  {
   "cell_type": "code",
   "execution_count": 8,
   "id": "e043cf20-f604-4a81-ab89-f95e1cc5d278",
   "metadata": {},
   "outputs": [],
   "source": [
    "p1 = person(\"rutik\",21)"
   ]
  },
  {
   "cell_type": "code",
   "execution_count": 10,
   "id": "cc772a78-614f-4182-94df-c397e21f54cd",
   "metadata": {},
   "outputs": [
    {
     "data": {
      "text/plain": [
       "('rutik', 21)"
      ]
     },
     "execution_count": 10,
     "metadata": {},
     "output_type": "execute_result"
    }
   ],
   "source": [
    "p1.return_person_details()"
   ]
  },
  {
   "cell_type": "markdown",
   "id": "b1951fd9-fb6b-40cb-a47e-7823489e8922",
   "metadata": {},
   "source": [
    "\n",
    "\n",
    "\n",
    "Q4. Why self is used in OOPs?\n",
    "\n",
    "Ans: self is used to represent the instance of the class. By using the “self” we can access the attributes and methods of the class in python.\n",
    "\n",
    "It binds the attributes with the given arguments.\n",
    "\n",
    "\n"
   ]
  },
  {
   "cell_type": "markdown",
   "id": "8b4c1b87-3f23-4afd-83e9-0bf546cf506d",
   "metadata": {},
   "source": [
    "Q5. What is inheritance? Give an example for each type of inheritance.\n",
    "Ans:-  It is a mechanism where you can derive a class from another class for a hierarchy of classes that share a set of attributes and methods\n",
    "\n",
    "1)Single Inheritance\n",
    "2)Multi Level Inheritance\n",
    "3)Hierarchical Inheritance\n",
    "4)Hybrid Inheritance234.\n",
    "\n",
    "\n",
    "1)Single Inheritance: A class inherits from only one base class. For example, class B can inherit from class A.\n",
    "\n",
    "2)Multi Level Inheritance: A derived class is created from another derived class. For example, class C can be derived from class B which is derived from class A.\n",
    "\n",
    "3)Hierarchical Inheritance: Multiple classes inherit from a single base class. For example, both classes B and C inherit from class A.\n",
    "\n",
    "4)Hybrid Inheritance: This is a combination of two or more types of inheritance. For example, a diamond-shaped inheritance structure."
   ]
  },
  {
   "cell_type": "code",
   "execution_count": null,
   "id": "f557fad4-4a9a-40cb-8d76-94aac42dc003",
   "metadata": {},
   "outputs": [],
   "source": []
  }
 ],
 "metadata": {
  "kernelspec": {
   "display_name": "Python 3 (ipykernel)",
   "language": "python",
   "name": "python3"
  },
  "language_info": {
   "codemirror_mode": {
    "name": "ipython",
    "version": 3
   },
   "file_extension": ".py",
   "mimetype": "text/x-python",
   "name": "python",
   "nbconvert_exporter": "python",
   "pygments_lexer": "ipython3",
   "version": "3.10.8"
  }
 },
 "nbformat": 4,
 "nbformat_minor": 5
}
